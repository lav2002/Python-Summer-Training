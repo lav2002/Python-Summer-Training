{
 "cells": [
  {
   "cell_type": "code",
   "execution_count": 15,
   "id": "d5031ec5",
   "metadata": {},
   "outputs": [
    {
     "name": "stdout",
     "output_type": "stream",
     "text": [
      "{}\n",
      "<class 'dict'>\n"
     ]
    }
   ],
   "source": [
    "d={\n",
    "}\n",
    "print(d)\n",
    "print(type(d))\n",
    "    "
   ]
  },
  {
   "cell_type": "code",
   "execution_count": 32,
   "id": "0acdf4e0",
   "metadata": {},
   "outputs": [
    {
     "name": "stdout",
     "output_type": "stream",
     "text": [
      "{'first-name': 'Lavkush', 'roll-no': 10, 'subject': 'python'}\n",
      "Lavkush\n"
     ]
    }
   ],
   "source": [
    "d={\n",
    "    'first-name':'Lavkush',\n",
    "    'roll-no':10,\n",
    "    'subject':'python'\n",
    "}\n",
    "print(d)\n",
    "print(d['first-name'])"
   ]
  },
  {
   "cell_type": "code",
   "execution_count": 30,
   "id": "b3a85bba",
   "metadata": {},
   "outputs": [
    {
     "name": "stdout",
     "output_type": "stream",
     "text": [
      "{100: 'ashish', 200: 'ravi', 300: 'lav'}\n",
      "<class 'dict'>\n"
     ]
    }
   ],
   "source": [
    "d={}\n",
    "d[100]='ashish'\n",
    "d[200]='ravi'\n",
    "d[300]='shiva'\n",
    "d[300]='lav'\n",
    "print(d)\n",
    "print(type(d))"
   ]
  },
  {
   "cell_type": "code",
   "execution_count": 29,
   "id": "2f78c40c",
   "metadata": {},
   "outputs": [
    {
     "name": "stdout",
     "output_type": "stream",
     "text": [
      "{100: 'ashish', 200: 'ravi', 300: 'shiva'}\n",
      "<class 'dict'>\n"
     ]
    }
   ],
   "source": [
    "d={\n",
    "    100:'ashish',\n",
    "    200:'ravi',\n",
    "    300:'shiva'\n",
    "}\n",
    "print(d)\n",
    "print(type(d))"
   ]
  },
  {
   "cell_type": "code",
   "execution_count": 33,
   "id": "1d121584",
   "metadata": {},
   "outputs": [
    {
     "name": "stdout",
     "output_type": "stream",
     "text": [
      "{'first-name': 'Lavkush', 'roll-no': 10, 'subject': 'python'}\n",
      "Lavkush\n"
     ]
    },
    {
     "ename": "KeyError",
     "evalue": "'first'",
     "output_type": "error",
     "traceback": [
      "\u001b[1;31m---------------------------------------------------------------------------\u001b[0m",
      "\u001b[1;31mKeyError\u001b[0m                                  Traceback (most recent call last)",
      "Input \u001b[1;32mIn [33]\u001b[0m, in \u001b[0;36m<cell line: 8>\u001b[1;34m()\u001b[0m\n\u001b[0;32m      6\u001b[0m \u001b[38;5;28mprint\u001b[39m(d)\n\u001b[0;32m      7\u001b[0m \u001b[38;5;28mprint\u001b[39m(d[\u001b[38;5;124m'\u001b[39m\u001b[38;5;124mfirst-name\u001b[39m\u001b[38;5;124m'\u001b[39m])\n\u001b[1;32m----> 8\u001b[0m \u001b[38;5;28mprint\u001b[39m(\u001b[43md\u001b[49m\u001b[43m[\u001b[49m\u001b[38;5;124;43m'\u001b[39;49m\u001b[38;5;124;43mfirst\u001b[39;49m\u001b[38;5;124;43m'\u001b[39;49m\u001b[43m]\u001b[49m)\n",
      "\u001b[1;31mKeyError\u001b[0m: 'first'"
     ]
    }
   ],
   "source": [
    "d={\n",
    "    'first-name':'Lavkush',\n",
    "    'roll-no':10,\n",
    "    'subject':'python'\n",
    "}\n",
    "print(d)\n",
    "print(d['first-name'])\n",
    "print(d['first'])"
   ]
  },
  {
   "cell_type": "code",
   "execution_count": 55,
   "id": "979ac061",
   "metadata": {},
   "outputs": [
    {
     "name": "stdout",
     "output_type": "stream",
     "text": [
      "{100: 'ashish', 200: 'ravi', 300: 'shiva'}\n",
      "<class 'dict'>\n"
     ]
    },
    {
     "data": {
      "text/plain": [
       "{100: 'ashish', 200: 'ravi', 300: 'lav'}"
      ]
     },
     "execution_count": 55,
     "metadata": {},
     "output_type": "execute_result"
    }
   ],
   "source": [
    "d={\n",
    "    100:'ashish',\n",
    "    200:'ravi',\n",
    "    300:'shiva'\n",
    "}\n",
    "print(d)\n",
    "print(type(d))\n",
    "d[300]='lav'\n",
    "d"
   ]
  },
  {
   "cell_type": "code",
   "execution_count": 56,
   "id": "895178a7",
   "metadata": {},
   "outputs": [],
   "source": [
    "del d[100]"
   ]
  },
  {
   "cell_type": "code",
   "execution_count": 57,
   "id": "b92253f8",
   "metadata": {},
   "outputs": [
    {
     "data": {
      "text/plain": [
       "{200: 'ravi', 300: 'lav'}"
      ]
     },
     "execution_count": 57,
     "metadata": {},
     "output_type": "execute_result"
    }
   ],
   "source": [
    "d"
   ]
  },
  {
   "cell_type": "code",
   "execution_count": 58,
   "id": "4c97739b",
   "metadata": {},
   "outputs": [
    {
     "ename": "KeyError",
     "evalue": "100",
     "output_type": "error",
     "traceback": [
      "\u001b[1;31m---------------------------------------------------------------------------\u001b[0m",
      "\u001b[1;31mKeyError\u001b[0m                                  Traceback (most recent call last)",
      "Input \u001b[1;32mIn [58]\u001b[0m, in \u001b[0;36m<cell line: 1>\u001b[1;34m()\u001b[0m\n\u001b[1;32m----> 1\u001b[0m \u001b[38;5;28;01mdel\u001b[39;00m d[\u001b[38;5;241m100\u001b[39m]\n",
      "\u001b[1;31mKeyError\u001b[0m: 100"
     ]
    }
   ],
   "source": [
    "del d[100]"
   ]
  },
  {
   "cell_type": "code",
   "execution_count": 85,
   "id": "6c9f54ea",
   "metadata": {},
   "outputs": [
    {
     "data": {
      "text/plain": [
       "{'ashish': 100, 200: 'ravi', 300: 'shiva', 102: 'lav'}"
      ]
     },
     "execution_count": 85,
     "metadata": {},
     "output_type": "execute_result"
    }
   ],
   "source": [
    "d[102]='lav'\n",
    "d"
   ]
  },
  {
   "cell_type": "code",
   "execution_count": 86,
   "id": "28a6e9f2",
   "metadata": {},
   "outputs": [
    {
     "data": {
      "text/plain": [
       "{}"
      ]
     },
     "execution_count": 86,
     "metadata": {},
     "output_type": "execute_result"
    }
   ],
   "source": [
    "d.clear()\n",
    "d"
   ]
  },
  {
   "cell_type": "code",
   "execution_count": 87,
   "id": "0a669e08",
   "metadata": {},
   "outputs": [
    {
     "name": "stdout",
     "output_type": "stream",
     "text": [
      "{100: 'ashish', 200: 'ravi', 300: 'shiva'}\n",
      "<class 'dict'>\n"
     ]
    },
    {
     "data": {
      "text/plain": [
       "'ashish'"
      ]
     },
     "execution_count": 87,
     "metadata": {},
     "output_type": "execute_result"
    }
   ],
   "source": [
    "d=dict([(100,'ashish'),(200,'ravi'),(300,'shiva')])\n",
    "print(d)\n",
    "print(type(d))\n",
    "d[100]"
   ]
  },
  {
   "cell_type": "code",
   "execution_count": 90,
   "id": "3be072ec",
   "metadata": {},
   "outputs": [
    {
     "name": "stdout",
     "output_type": "stream",
     "text": [
      "{'ashish': 100, 200: 'ravi', 300: 'shiva'}\n",
      "<class 'dict'>\n"
     ]
    },
    {
     "data": {
      "text/plain": [
       "100"
      ]
     },
     "execution_count": 90,
     "metadata": {},
     "output_type": "execute_result"
    }
   ],
   "source": [
    "d=dict([{100,'ashish'},{200,'ravi'},{300,'shiva'}])\n",
    "print(d)\n",
    "print(type(d))\n",
    "d['ashish']"
   ]
  },
  {
   "cell_type": "code",
   "execution_count": 39,
   "id": "39d459a2",
   "metadata": {},
   "outputs": [
    {
     "data": {
      "text/plain": [
       "{200: 'ravi', 300: 'shiva'}"
      ]
     },
     "execution_count": 39,
     "metadata": {},
     "output_type": "execute_result"
    }
   ],
   "source": [
    "d=dict([(100,'ashish'),(200,'ravi'),(300,'shiva')])\n",
    "d.pop(100)\n",
    "d"
   ]
  },
  {
   "cell_type": "code",
   "execution_count": 60,
   "id": "e2d9b9b2",
   "metadata": {},
   "outputs": [
    {
     "name": "stdout",
     "output_type": "stream",
     "text": [
      "ashish -- 300\n",
      "ravi -- 300\n",
      "shiva -- 300\n"
     ]
    }
   ],
   "source": [
    "d={\n",
    "    100:'ashish',\n",
    "    200:'ravi',\n",
    "    300:'shiva'\n",
    "}\n",
    "for i in d.values():\n",
    "    j in d.keys()\n",
    "    print(i,'--',j)"
   ]
  },
  {
   "cell_type": "code",
   "execution_count": 82,
   "id": "1730ccd4",
   "metadata": {},
   "outputs": [
    {
     "name": "stdout",
     "output_type": "stream",
     "text": [
      "100 -- ashish\n",
      "200 -- ravi\n",
      "300 -- shiva\n"
     ]
    }
   ],
   "source": [
    "d={\n",
    "    100:'ashish',\n",
    "    200:'ravi',\n",
    "    300:'shiva'\n",
    "}\n",
    "for i in d:\n",
    "    print(i,\"--\",d[i])"
   ]
  },
  {
   "cell_type": "code",
   "execution_count": 83,
   "id": "d50ccacf",
   "metadata": {},
   "outputs": [
    {
     "data": {
      "text/plain": [
       "{'physics': 67, 'maths': 87, 'practical': 48}"
      ]
     },
     "execution_count": 83,
     "metadata": {},
     "output_type": "execute_result"
    }
   ],
   "source": [
    "d={'physics':67,'maths':87}\n",
    "d1={'practical':48}\n",
    "d.update(d1)\n",
    "d"
   ]
  },
  {
   "cell_type": "code",
   "execution_count": 84,
   "id": "2c1d60d8",
   "metadata": {},
   "outputs": [
    {
     "ename": "TypeError",
     "evalue": "update expected at most 1 argument, got 2",
     "output_type": "error",
     "traceback": [
      "\u001b[1;31m---------------------------------------------------------------------------\u001b[0m",
      "\u001b[1;31mTypeError\u001b[0m                                 Traceback (most recent call last)",
      "Input \u001b[1;32mIn [84]\u001b[0m, in \u001b[0;36m<cell line: 4>\u001b[1;34m()\u001b[0m\n\u001b[0;32m      2\u001b[0m d1\u001b[38;5;241m=\u001b[39m{\u001b[38;5;124m'\u001b[39m\u001b[38;5;124mpractical\u001b[39m\u001b[38;5;124m'\u001b[39m:\u001b[38;5;241m48\u001b[39m}\n\u001b[0;32m      3\u001b[0m d2\u001b[38;5;241m=\u001b[39m{\u001b[38;5;124m'\u001b[39m\u001b[38;5;124menglish\u001b[39m\u001b[38;5;124m'\u001b[39m:\u001b[38;5;241m33\u001b[39m}\n\u001b[1;32m----> 4\u001b[0m \u001b[43md\u001b[49m\u001b[38;5;241;43m.\u001b[39;49m\u001b[43mupdate\u001b[49m\u001b[43m(\u001b[49m\u001b[43md1\u001b[49m\u001b[43m,\u001b[49m\u001b[43md2\u001b[49m\u001b[43m)\u001b[49m\n\u001b[0;32m      5\u001b[0m d\n",
      "\u001b[1;31mTypeError\u001b[0m: update expected at most 1 argument, got 2"
     ]
    }
   ],
   "source": [
    "d={'physics':67,'maths':87}\n",
    "d1={'practical':48}\n",
    "d2={'english':33}\n",
    "d.update(d1,d2)\n",
    "d"
   ]
  },
  {
   "cell_type": "code",
   "execution_count": 95,
   "id": "ecf82547",
   "metadata": {},
   "outputs": [
    {
     "data": {
      "text/plain": [
       "{'physics': 67, 'maths': 87, 'practical': 48, 'english': 33}"
      ]
     },
     "execution_count": 95,
     "metadata": {},
     "output_type": "execute_result"
    }
   ],
   "source": [
    "d={'physics':67,'maths':87}\n",
    "d1={'practical':48}\n",
    "d2={'english':33}\n",
    "d.update(d1 | d2)\n",
    "d"
   ]
  },
  {
   "cell_type": "code",
   "execution_count": 98,
   "id": "7822bbc8",
   "metadata": {},
   "outputs": [
    {
     "data": {
      "text/plain": [
       "{'physics': 67, 'maths': 87, 'practical': 48, 'english': 33}"
      ]
     },
     "execution_count": 98,
     "metadata": {},
     "output_type": "execute_result"
    }
   ],
   "source": [
    "d={'physics':67,'maths':87}\n",
    "d1='practical',48\n",
    "d2='english',33\n",
    "d.update([(d1),(d2)])\n",
    "d"
   ]
  },
  {
   "cell_type": "code",
   "execution_count": 125,
   "id": "a776fda8",
   "metadata": {},
   "outputs": [
    {
     "data": {
      "text/plain": [
       "{0: 0,\n",
       " 2: 20,\n",
       " 4: 40,\n",
       " 6: 60,\n",
       " 8: 80,\n",
       " 10: 100,\n",
       " 12: 120,\n",
       " 14: 140,\n",
       " 16: 160,\n",
       " 18: 180,\n",
       " 20: 200,\n",
       " 22: 220,\n",
       " 24: 240,\n",
       " 26: 260,\n",
       " 28: 280,\n",
       " 30: 300,\n",
       " 32: 320,\n",
       " 34: 340,\n",
       " 36: 360,\n",
       " 38: 380,\n",
       " 40: 400,\n",
       " 42: 420,\n",
       " 44: 440,\n",
       " 46: 460,\n",
       " 48: 480}"
      ]
     },
     "execution_count": 125,
     "metadata": {},
     "output_type": "execute_result"
    }
   ],
   "source": [
    "a={\n",
    "    i:10*i for i in range(0,50,2)\n",
    "}\n",
    "a"
   ]
  },
  {
   "cell_type": "code",
   "execution_count": 148,
   "id": "0ac3b518",
   "metadata": {},
   "outputs": [
    {
     "name": "stdout",
     "output_type": "stream",
     "text": [
      "Enter a dictionary{34:34,45:45}\n"
     ]
    },
    {
     "data": {
      "text/plain": [
       "79"
      ]
     },
     "execution_count": 148,
     "metadata": {},
     "output_type": "execute_result"
    }
   ],
   "source": [
    "d1 = eval(input('Enter a dictionary'))\n",
    "s = sum(d1.values())\n",
    "s"
   ]
  },
  {
   "cell_type": "code",
   "execution_count": 159,
   "id": "98785d94",
   "metadata": {},
   "outputs": [
    {
     "name": "stdout",
     "output_type": "stream",
     "text": [
      "Enter any word:lavvvvvvvvvv\n",
      "l occurred 1 times\n",
      "l occurred 1 times\n",
      "a occurred 1 times\n",
      "l occurred 1 times\n",
      "a occurred 1 times\n",
      "v occurred 1 times\n",
      "l occurred 1 times\n",
      "a occurred 1 times\n",
      "v occurred 2 times\n",
      "l occurred 1 times\n",
      "a occurred 1 times\n",
      "v occurred 3 times\n",
      "l occurred 1 times\n",
      "a occurred 1 times\n",
      "v occurred 4 times\n",
      "l occurred 1 times\n",
      "a occurred 1 times\n",
      "v occurred 5 times\n",
      "l occurred 1 times\n",
      "a occurred 1 times\n",
      "v occurred 6 times\n",
      "l occurred 1 times\n",
      "a occurred 1 times\n",
      "v occurred 7 times\n",
      "l occurred 1 times\n",
      "a occurred 1 times\n",
      "v occurred 8 times\n",
      "l occurred 1 times\n",
      "a occurred 1 times\n",
      "v occurred 9 times\n",
      "l occurred 1 times\n",
      "a occurred 1 times\n",
      "v occurred 10 times\n"
     ]
    }
   ],
   "source": [
    "w=input(\"Enter any word:\")\n",
    "d={}\n",
    "for i in w:\n",
    "    d[i]=d.get(i,0)+1\n",
    "    for k,v in d.items():\n",
    "        print(k,\"occurred\",v,\"times\")\n",
    "        "
   ]
  },
  {
   "cell_type": "code",
   "execution_count": null,
   "id": "ce4d1e2a",
   "metadata": {},
   "outputs": [],
   "source": []
  }
 ],
 "metadata": {
  "kernelspec": {
   "display_name": "Python 3 (ipykernel)",
   "language": "python",
   "name": "python3"
  },
  "language_info": {
   "codemirror_mode": {
    "name": "ipython",
    "version": 3
   },
   "file_extension": ".py",
   "mimetype": "text/x-python",
   "name": "python",
   "nbconvert_exporter": "python",
   "pygments_lexer": "ipython3",
   "version": "3.9.12"
  }
 },
 "nbformat": 4,
 "nbformat_minor": 5
}
