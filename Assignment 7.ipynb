{
 "cells": [
  {
   "cell_type": "code",
   "execution_count": 6,
   "id": "3006c514",
   "metadata": {},
   "outputs": [
    {
     "name": "stdout",
     "output_type": "stream",
     "text": [
      "Enter any number:55\n",
      "Number is more than 50\n"
     ]
    }
   ],
   "source": [
    "a=int(input(\"Enter any number:\"))\n",
    "b=50\n",
    "if (a>b):\n",
    "    print(\"Number is more than 50\")"
   ]
  },
  {
   "cell_type": "code",
   "execution_count": 7,
   "id": "083d4620",
   "metadata": {},
   "outputs": [
    {
     "name": "stdout",
     "output_type": "stream",
     "text": [
      "Enter any number:10\n",
      "Number is not more than 50\n"
     ]
    }
   ],
   "source": [
    "a=int(input(\"Enter any number:\"))\n",
    "b=50\n",
    "if (a>b):\n",
    "    print(\"Number is more than 50\")\n",
    "else:\n",
    "    print(\"Number is not more than 50\")    "
   ]
  },
  {
   "cell_type": "code",
   "execution_count": 33,
   "id": "7e3b3624",
   "metadata": {},
   "outputs": [
    {
     "name": "stdout",
     "output_type": "stream",
     "text": [
      "Number is between 21 to 40\n"
     ]
    }
   ],
   "source": [
    "a=40\n",
    "if (a<20):\n",
    "    print(\"Number is between 1 to 20\")\n",
    "else:\n",
    "    if (a<=40):\n",
    "        print(\"Number is between 21 to 40\")\n",
    "    else:\n",
    "        if(a>40):\n",
    "            print(\"More than 40\")\n"
   ]
  },
  {
   "cell_type": "code",
   "execution_count": 34,
   "id": "3c3c5bcd",
   "metadata": {},
   "outputs": [
    {
     "name": "stdout",
     "output_type": "stream",
     "text": [
      "Number is between 1 to 20\n"
     ]
    }
   ],
   "source": [
    "a=10\n",
    "if (a<20):\n",
    "    print(\"Number is between 1 to 20\")\n",
    "else:\n",
    "    if (a<=40):\n",
    "        print(\"Number is between 21 to 40\")\n",
    "    else:\n",
    "        if(a>40):\n",
    "            print(\"More than 40\")\n"
   ]
  },
  {
   "cell_type": "code",
   "execution_count": 35,
   "id": "e36239e7",
   "metadata": {},
   "outputs": [
    {
     "name": "stdout",
     "output_type": "stream",
     "text": [
      "More than 40\n"
     ]
    }
   ],
   "source": [
    "a=50\n",
    "if (a<20):\n",
    "    print(\"Number is between 1 to 20\")\n",
    "else:\n",
    "    if (a<=40):\n",
    "        print(\"Number is between 21 to 40\")\n",
    "    else:\n",
    "        if(a>40):\n",
    "            print(\"More than 40\")\n"
   ]
  },
  {
   "cell_type": "code",
   "execution_count": null,
   "id": "21bd7173",
   "metadata": {},
   "outputs": [],
   "source": []
  }
 ],
 "metadata": {
  "kernelspec": {
   "display_name": "Python 3 (ipykernel)",
   "language": "python",
   "name": "python3"
  },
  "language_info": {
   "codemirror_mode": {
    "name": "ipython",
    "version": 3
   },
   "file_extension": ".py",
   "mimetype": "text/x-python",
   "name": "python",
   "nbconvert_exporter": "python",
   "pygments_lexer": "ipython3",
   "version": "3.9.12"
  }
 },
 "nbformat": 4,
 "nbformat_minor": 5
}
