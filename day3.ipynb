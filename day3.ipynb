{
 "cells": [
  {
   "cell_type": "code",
   "execution_count": 44,
   "id": "8004023d",
   "metadata": {},
   "outputs": [
    {
     "name": "stdout",
     "output_type": "stream",
     "text": [
      "[]\n"
     ]
    },
    {
     "data": {
      "text/plain": [
       "list"
      ]
     },
     "execution_count": 44,
     "metadata": {},
     "output_type": "execute_result"
    }
   ],
   "source": [
    "#List \n",
    "\n",
    "list=[]\n",
    "print(list)\n",
    "type(list)"
   ]
  },
  {
   "cell_type": "code",
   "execution_count": 45,
   "id": "80fd709f",
   "metadata": {},
   "outputs": [
    {
     "name": "stdout",
     "output_type": "stream",
     "text": [
      "[10, 20, 30, 40]\n",
      "['a', 'b', 'c', 'd']\n",
      "[1, 'w', 2, 's', 3, 'a', 4, 'd']\n",
      "<class 'list'>\n",
      "<class 'list'>\n",
      "<class 'list'>\n"
     ]
    },
    {
     "data": {
      "text/plain": [
       "30"
      ]
     },
     "execution_count": 45,
     "metadata": {},
     "output_type": "execute_result"
    }
   ],
   "source": [
    "l1=[10,20,30,40] #int list\n",
    "l2=['a','b','c','d'] #char list\n",
    "l3=[1,'w',2,'s',3,'a',4,'d'] # mix list\n",
    "print(l1)\n",
    "print(l2)\n",
    "print(l3)\n",
    "print(type(l1))\n",
    "print(type(l2))\n",
    "print(type(l3))\n",
    "l1[2]"
   ]
  },
  {
   "cell_type": "code",
   "execution_count": 46,
   "id": "4f0c939e",
   "metadata": {},
   "outputs": [
    {
     "data": {
      "text/plain": [
       "(['monsi', 18, 'cse'],\n",
       " ['soni', 19, 'it'],\n",
       " ['nunal', 20, 'cse'],\n",
       " ['bansh', 2, 'cse'],\n",
       " ['suransh', 34, 'bsc'])"
      ]
     },
     "execution_count": 46,
     "metadata": {},
     "output_type": "execute_result"
    }
   ],
   "source": [
    "#data stored in list\n",
    "list1=['monsi',18,'cse']\n",
    "list2=['soni',19,'it']\n",
    "list3=['nunal',20,'cse']\n",
    "list4=['bansh',2,'cse']\n",
    "list5=['suransh',34,'bsc']\n",
    "list1,list2,list3,list4,list5"
   ]
  },
  {
   "cell_type": "code",
   "execution_count": 49,
   "id": "cddfd2aa",
   "metadata": {},
   "outputs": [
    {
     "name": "stdout",
     "output_type": "stream",
     "text": [
      "Enter List:[2,4,6,'lav']\n",
      "[2, 4, 6, 'lav']\n",
      "<class 'list'>\n"
     ]
    }
   ],
   "source": [
    "#making list by using input\n",
    "list=eval(input(\"Enter List:\"))\n",
    "#taking input in [],Input Example:- [2,4,6,'lav']\n",
    "print(list)\n",
    "print(type(list))"
   ]
  },
  {
   "cell_type": "code",
   "execution_count": 50,
   "id": "9e52d2d4",
   "metadata": {},
   "outputs": [
    {
     "ename": "TypeError",
     "evalue": "'list' object is not callable",
     "output_type": "error",
     "traceback": [
      "\u001b[1;31m---------------------------------------------------------------------------\u001b[0m",
      "\u001b[1;31mTypeError\u001b[0m                                 Traceback (most recent call last)",
      "Input \u001b[1;32mIn [50]\u001b[0m, in \u001b[0;36m<cell line: 2>\u001b[1;34m()\u001b[0m\n\u001b[0;32m      1\u001b[0m \u001b[38;5;66;03m#range using list function\u001b[39;00m\n\u001b[1;32m----> 2\u001b[0m l\u001b[38;5;241m=\u001b[39m\u001b[38;5;28;43mlist\u001b[39;49m\u001b[43m(\u001b[49m\u001b[38;5;28;43mrange\u001b[39;49m\u001b[43m(\u001b[49m\u001b[38;5;241;43m0\u001b[39;49m\u001b[43m,\u001b[49m\u001b[38;5;241;43m10\u001b[39;49m\u001b[43m,\u001b[49m\u001b[38;5;241;43m2\u001b[39;49m\u001b[43m)\u001b[49m\u001b[43m)\u001b[49m\n\u001b[0;32m      3\u001b[0m l\n",
      "\u001b[1;31mTypeError\u001b[0m: 'list' object is not callable"
     ]
    }
   ],
   "source": [
    "#range using list function\n",
    "l=list(range(0,10,2))\n",
    "l\n",
    "\n",
    "#code shi hai bus compiler pe chal nhi rha"
   ]
  },
  {
   "cell_type": "code",
   "execution_count": 53,
   "id": "3336f499",
   "metadata": {},
   "outputs": [
    {
     "data": {
      "text/plain": [
       "['python', 'is', 'easy!!!']"
      ]
     },
     "execution_count": 53,
     "metadata": {},
     "output_type": "execute_result"
    }
   ],
   "source": [
    "#using split function in list \n",
    "s=\"python is easy!!!\"\n",
    "l=s.split()\n",
    "l"
   ]
  },
  {
   "cell_type": "code",
   "execution_count": 68,
   "id": "17a07898",
   "metadata": {},
   "outputs": [
    {
     "data": {
      "text/plain": [
       "(4, 3, 2, 1)"
      ]
     },
     "execution_count": 68,
     "metadata": {},
     "output_type": "execute_result"
    }
   ],
   "source": [
    "#yaha index use hua hai(list ko aage se read krne ke lia indexing 0,1,2,3,--- se start hogi,\n",
    "#or list ko last se starting me laane ke lia indexing -1,-2,-3,--- se hogi)\n",
    "l=[1,2,3,4]\n",
    "l[-1],l[-2],l[-3],l[-4]"
   ]
  },
  {
   "cell_type": "code",
   "execution_count": 27,
   "id": "86107e59",
   "metadata": {},
   "outputs": [
    {
     "data": {
      "text/plain": [
       "[1, 3, 5, 7]"
      ]
     },
     "execution_count": 27,
     "metadata": {},
     "output_type": "execute_result"
    }
   ],
   "source": [
    "#using slicing(:)\n",
    "l=[1,2,3,4,5,6,7,8]\n",
    "l[0:8:2]"
   ]
  },
  {
   "cell_type": "code",
   "execution_count": 97,
   "id": "7b46b09b",
   "metadata": {},
   "outputs": [
    {
     "name": "stdout",
     "output_type": "stream",
     "text": [
      "['b', 'c', 'd']\n",
      "['b', 'c', 'd']\n",
      "['b', 'c', 'd']\n",
      "['b', 'c', 'd']\n",
      "b c d\n",
      "b c d\n"
     ]
    }
   ],
   "source": [
    "li=['a','b','c','d','e']\n",
    "print(li[1:4])#using slicing method\n",
    "print(li[-4:4])#using slicing method\n",
    "print(li[-4:-1])#using slicing method\n",
    "print(li[1:-1])#using slicing method\n",
    "#these all slicing method are for same output for the above list li\n",
    "print(li[1],li[2],li[3])#using forward indexing\n",
    "print(li[-4],li[-3],li[-2])#using reverse indexing"
   ]
  },
  {
   "cell_type": "code",
   "execution_count": 108,
   "id": "5bbaffde",
   "metadata": {},
   "outputs": [
    {
     "name": "stdout",
     "output_type": "stream",
     "text": [
      "['b', 'c', 'd', 'e']\n",
      "['a', 'b', 'c', 'd']\n",
      "['e']\n",
      "['a']\n",
      "[]\n"
     ]
    }
   ],
   "source": [
    "print(li[1:])#using slicing method\n",
    "print(li[:4])#using slicing method\n",
    "print(li[-1:])#using slicing method\n",
    "print(li[:-4])#using slicing method\n",
    "print(li[:-5])#using slicing method #to show empty list\n",
    "#we can also use : to print full row or column"
   ]
  },
  {
   "cell_type": "code",
   "execution_count": 121,
   "id": "e4af1b9a",
   "metadata": {},
   "outputs": [
    {
     "name": "stdout",
     "output_type": "stream",
     "text": [
      "['b', 'c', 'd']\n",
      "[2, 4, 6, 8, 10]\n",
      "[]\n",
      "[]\n",
      "[2, 4, 6, 8, 10]\n",
      "[2, 4, 6, 8, 10]\n"
     ]
    }
   ],
   "source": [
    "print(li[1:4:1])#using slicing method\n",
    "#(1:4:1) yaha last me jo (:1) hai vo range show krta hai , matlab gap kitna hona chahiye bich me.\n",
    "#Examples:- \n",
    "list=[1,2,3,4,5,6,7,8,9,10]\n",
    "print(list[1:10:2])\n",
    "print(list[1:10:-+2])\n",
    "print(list[1:10:+-2])\n",
    "print(list[1:10:++2])\n",
    "print(list[1:10:--2])"
   ]
  },
  {
   "cell_type": "code",
   "execution_count": 125,
   "id": "d74f32f6",
   "metadata": {},
   "outputs": [
    {
     "name": "stdout",
     "output_type": "stream",
     "text": [
      "[10, 20, 30, 40]\n"
     ]
    },
    {
     "data": {
      "text/plain": [
       "[10, 20, 30, 777]"
      ]
     },
     "execution_count": 125,
     "metadata": {},
     "output_type": "execute_result"
    }
   ],
   "source": [
    "n=[10,20,30,40]\n",
    "print(n)\n",
    "#changing value from list\n",
    "n[3]=777 # here we use n[3] as index to store 777 in list\n",
    "n"
   ]
  },
  {
   "cell_type": "code",
   "execution_count": 127,
   "id": "4d958e03",
   "metadata": {},
   "outputs": [
    {
     "name": "stdout",
     "output_type": "stream",
     "text": [
      "1\n",
      "2\n",
      "3\n",
      "4\n",
      "5\n",
      "6\n",
      "7\n",
      "8\n",
      "9\n",
      "10\n"
     ]
    }
   ],
   "source": [
    "n=[1,2,3,4,5,6,7,8,9,10]\n",
    "#using forloop to print list\n",
    "for n1 in n:\n",
    "    print(n1)"
   ]
  },
  {
   "cell_type": "code",
   "execution_count": 132,
   "id": "0ba050df",
   "metadata": {},
   "outputs": [
    {
     "name": "stdout",
     "output_type": "stream",
     "text": [
      "0\n",
      "2\n",
      "4\n",
      "6\n",
      "8\n",
      "10\n"
     ]
    }
   ],
   "source": [
    "n=[0,1,2,3,4,5,6,7,8,9,10]\n",
    "#using forloop to print even +ve number\n",
    "for n1 in n:\n",
    "    if n1%2==0:\n",
    "        print(n1)"
   ]
  },
  {
   "cell_type": "code",
   "execution_count": 148,
   "id": "d7d04296",
   "metadata": {},
   "outputs": [
    {
     "name": "stdout",
     "output_type": "stream",
     "text": [
      "0\n",
      "2\n",
      "4\n",
      "6\n",
      "8\n",
      "10\n",
      "12\n",
      "14\n",
      "16\n",
      "18\n",
      "20\n",
      "22\n",
      "24\n",
      "26\n",
      "28\n",
      "30\n",
      "32\n",
      "34\n",
      "36\n",
      "38\n",
      "40\n",
      "42\n",
      "44\n",
      "46\n",
      "48\n",
      "\n",
      "\n",
      "0\n",
      "2\n",
      "4\n",
      "6\n",
      "8\n",
      "10\n",
      "12\n",
      "14\n",
      "16\n",
      "18\n",
      "20\n",
      "22\n",
      "24\n",
      "26\n",
      "28\n",
      "30\n",
      "32\n",
      "34\n",
      "36\n",
      "38\n",
      "40\n",
      "42\n",
      "44\n",
      "46\n",
      "48\n"
     ]
    }
   ],
   "source": [
    "# for loop for generate 0-50 number and print all even -ve numbers.\n",
    "#first method\n",
    "l=50\n",
    "for i in range(0,l):\n",
    "    if i%2==0:\n",
    "        print(i)\n",
    "        \n",
    "print(\"\\n\") # for space\n",
    "\n",
    "#second method\n",
    "li=50\n",
    "for n in range(0,li,2):\n",
    "    print(n)\n",
    "\n",
    "    "
   ]
  },
  {
   "cell_type": "code",
   "execution_count": 157,
   "id": "ca86f0b2",
   "metadata": {},
   "outputs": [
    {
     "name": "stdout",
     "output_type": "stream",
     "text": [
      "1\n",
      "2\n",
      "6\n",
      "24\n",
      "120\n",
      "720\n",
      "5040\n",
      "40320\n",
      "362880\n",
      "3628800\n"
     ]
    }
   ],
   "source": [
    "# find factorial\n",
    "f=1\n",
    "l=10\n",
    "for i in range(1,l+1):\n",
    "    f=f*i\n",
    "    print(f)"
   ]
  },
  {
   "cell_type": "code",
   "execution_count": 158,
   "id": "a5385ad7",
   "metadata": {},
   "outputs": [
    {
     "data": {
      "text/plain": [
       "10"
      ]
     },
     "execution_count": 158,
     "metadata": {},
     "output_type": "execute_result"
    }
   ],
   "source": [
    "n=[1,2,3,4,5,6,7,8,9,10]\n",
    "len(n)\n",
    "#yaha len() funtion use kia hai list ke total no. of elements find krne ke lia."
   ]
  },
  {
   "cell_type": "code",
   "execution_count": 162,
   "id": "9996895b",
   "metadata": {},
   "outputs": [
    {
     "name": "stdout",
     "output_type": "stream",
     "text": [
      "2\n",
      "3\n",
      "4\n",
      "1\n",
      "2\n"
     ]
    }
   ],
   "source": [
    "n=[1,2,2,2,3,3,3,3,4,5,5,1]\n",
    "print(n.count(1))\n",
    "print(n.count(2))\n",
    "print(n.count(3))\n",
    "print(n.count(4))\n",
    "print(n.count(5))\n",
    "# yaha humne count() function use kia hai dublicate ya no. of element find krne ke lia."
   ]
  },
  {
   "cell_type": "code",
   "execution_count": 171,
   "id": "f6155911",
   "metadata": {},
   "outputs": [
    {
     "name": "stdout",
     "output_type": "stream",
     "text": [
      "0\n",
      "1\n",
      "4\n",
      "8\n",
      "9\n"
     ]
    }
   ],
   "source": [
    "n=[1,2,2,2,3,3,3,3,4,5,5,1]\n",
    "print(n.index(1))\n",
    "print(n.index(2))\n",
    "print(n.index(3))\n",
    "print(n.index(4))\n",
    "print(n.index(5))\n",
    "#index() function. isko google se padh lio."
   ]
  },
  {
   "cell_type": "code",
   "execution_count": 175,
   "id": "d9c4a535",
   "metadata": {},
   "outputs": [
    {
     "data": {
      "text/plain": [
       "['a', 'b', 'c']"
      ]
     },
     "execution_count": 175,
     "metadata": {},
     "output_type": "execute_result"
    }
   ],
   "source": [
    "list=[]\n",
    "list.append(\"a\")\n",
    "list.append(\"b\")\n",
    "list.append(\"c\")\n",
    "list\n",
    "#we use append() function to add values in empty list."
   ]
  },
  {
   "cell_type": "code",
   "execution_count": 176,
   "id": "cd461d21",
   "metadata": {},
   "outputs": [
    {
     "data": {
      "text/plain": [
       "[1, 888, 2, 3, 4, 5, 2]"
      ]
     },
     "execution_count": 176,
     "metadata": {},
     "output_type": "execute_result"
    }
   ],
   "source": [
    "n=[1,2,3,4,5,2]\n",
    "n.insert(1,888)\n",
    "n\n",
    "#here we used insert() function to insert value in desired index."
   ]
  },
  {
   "cell_type": "code",
   "execution_count": 177,
   "id": "152590ad",
   "metadata": {},
   "outputs": [
    {
     "data": {
      "text/plain": [
       "['RC', 'LL', 'OO', 'LAV', 'MAI', 'HU']"
      ]
     },
     "execution_count": 177,
     "metadata": {},
     "output_type": "execute_result"
    }
   ],
   "source": [
    "n1=[\"RC\",\"LL\",\"OO\"]\n",
    "n2=[\"LAV\",\"MAI\",\"HU\"]\n",
    "n1.extend(n2)\n",
    "n1\n",
    "# here we used extend function to merge 2 or more list."
   ]
  },
  {
   "cell_type": "code",
   "execution_count": 179,
   "id": "98973250",
   "metadata": {},
   "outputs": [
    {
     "data": {
      "text/plain": [
       "[20, 30, 40]"
      ]
     },
     "execution_count": 179,
     "metadata": {},
     "output_type": "execute_result"
    }
   ],
   "source": [
    "n=[10,20,30,40]\n",
    "n.remove(10)\n",
    "n\n",
    "#here we used remove() function to remove an element from the list."
   ]
  },
  {
   "cell_type": "code",
   "execution_count": 185,
   "id": "417d9c79",
   "metadata": {},
   "outputs": [
    {
     "name": "stdout",
     "output_type": "stream",
     "text": [
      "40\n",
      "10\n",
      "[20, 30]\n"
     ]
    }
   ],
   "source": [
    "n=[10,20,30,40]\n",
    "print(n.pop())\n",
    "print(n.pop(0))\n",
    "print(n)\n",
    "# we used pop() function to remove desired index element.\n",
    "# If we don't give index then it pop the last value from the list by default."
   ]
  },
  {
   "cell_type": "code",
   "execution_count": 3,
   "id": "5ae43647",
   "metadata": {},
   "outputs": [
    {
     "data": {
      "text/plain": [
       "[40, 30, 20, 10]"
      ]
     },
     "execution_count": 3,
     "metadata": {},
     "output_type": "execute_result"
    }
   ],
   "source": [
    "n=[10,20,30,40]\n",
    "n.reverse()\n",
    "n\n",
    "#here we used reverse() function to reverse all the ordered elements in list."
   ]
  },
  {
   "cell_type": "code",
   "execution_count": 18,
   "id": "df56da23",
   "metadata": {},
   "outputs": [
    {
     "name": "stdout",
     "output_type": "stream",
     "text": [
      "['o', 'l', 'l', 'e', 'h']\n"
     ]
    }
   ],
   "source": [
    "n=[\"h\",\"e\",\"l\",\"l\",\"o\"]\n",
    "for i in range(len(n)):# here we used pop and insert to reverse the list.\n",
    "    l=n.pop()\n",
    "    n.insert(i,l)\n",
    "print(n)\n",
    "    "
   ]
  },
  {
   "cell_type": "code",
   "execution_count": 21,
   "id": "a51d026b",
   "metadata": {},
   "outputs": [
    {
     "data": {
      "text/plain": [
       "[20, 25, 30, 40, 50]"
      ]
     },
     "execution_count": 21,
     "metadata": {},
     "output_type": "execute_result"
    }
   ],
   "source": [
    "# here we used sort() function to sort the list.\n",
    "\n",
    "n=[20,50,30,40,25]\n",
    "n.sort()\n",
    "n"
   ]
  },
  {
   "cell_type": "code",
   "execution_count": 24,
   "id": "4c5f05b6",
   "metadata": {},
   "outputs": [
    {
     "name": "stdout",
     "output_type": "stream",
     "text": [
      "50\n",
      "40\n",
      "30\n",
      "20\n",
      "10\n"
     ]
    }
   ],
   "source": [
    "#alternate method to reverse the list elements.\n",
    "l = [10, 20, 30, 40, 50]\n",
    "t = len(l) \n",
    "for n in range(t-1,-1,-1): \n",
    "    print(l[n]) "
   ]
  },
  {
   "cell_type": "code",
   "execution_count": 2,
   "id": "0f8682db",
   "metadata": {},
   "outputs": [
    {
     "name": "stdout",
     "output_type": "stream",
     "text": [
      "2743395279872\n",
      "2743395279872\n"
     ]
    }
   ],
   "source": [
    "#list aliasing\n",
    "l = [10, 20, 30, 40, 50]\n",
    "y=l\n",
    "print(id(y))\n",
    "print(id(l))"
   ]
  },
  {
   "cell_type": "code",
   "execution_count": 5,
   "id": "3cbcb55c",
   "metadata": {},
   "outputs": [
    {
     "name": "stdout",
     "output_type": "stream",
     "text": [
      "[10, 777, 30, 40, 50]\n",
      "[10, 777, 30, 40, 50]\n"
     ]
    }
   ],
   "source": [
    "#list aliasing\n",
    "#note:- Somtimes it is not good.\n",
    "l = [10, 20, 30, 40, 50]\n",
    "y=l\n",
    "y[1]=777\n",
    "print(l)\n",
    "print(y)"
   ]
  },
  {
   "cell_type": "code",
   "execution_count": 22,
   "id": "b924fbc4",
   "metadata": {},
   "outputs": [
    {
     "name": "stdout",
     "output_type": "stream",
     "text": [
      "[10, 20, 30, 40, 50]\n",
      "[10, 777, 30, 40, 50]\n"
     ]
    }
   ],
   "source": [
    "#list aliasing\n",
    "#Using slicing operator.\n",
    "x = [10, 20, 30, 40, 50]\n",
    "y=x[:]\n",
    "y[1]=777\n",
    "print(x)\n",
    "print(y)"
   ]
  },
  {
   "cell_type": "code",
   "execution_count": 23,
   "id": "cbdd5567",
   "metadata": {},
   "outputs": [
    {
     "name": "stdout",
     "output_type": "stream",
     "text": [
      "[10, 20, 30, 40, 50]\n",
      "[10, 777, 30, 40, 50]\n"
     ]
    }
   ],
   "source": [
    "#list aliasing\n",
    "#Using copy() function.\n",
    "x = [10, 20, 30, 40, 50]\n",
    "y=x.copy()\n",
    "y[1]=777\n",
    "print(x)\n",
    "print(y)"
   ]
  },
  {
   "cell_type": "code",
   "execution_count": 36,
   "id": "3ec30503",
   "metadata": {},
   "outputs": [
    {
     "data": {
      "text/plain": [
       "[10, 20, 30, 40, 50, 60]"
      ]
     },
     "execution_count": 36,
     "metadata": {},
     "output_type": "execute_result"
    }
   ],
   "source": [
    "#using mathematical operators\n",
    "\n",
    "x=[10,20,30]\n",
    "y=[40,50,60]\n",
    "c=x+y\n",
    "c"
   ]
  },
  {
   "cell_type": "code",
   "execution_count": 30,
   "id": "4027831c",
   "metadata": {},
   "outputs": [
    {
     "data": {
      "text/plain": [
       "[10, 20, 30, 10, 20, 30, 10, 20, 30]"
      ]
     },
     "execution_count": 30,
     "metadata": {},
     "output_type": "execute_result"
    }
   ],
   "source": [
    "#using mathematical operators\n",
    "x=[10,20,30]\n",
    "y=x*3\n",
    "y"
   ]
  },
  {
   "cell_type": "code",
   "execution_count": 26,
   "id": "68c3bc37",
   "metadata": {},
   "outputs": [
    {
     "data": {
      "text/plain": [
       "[10, 20, 30, 10, 20, 30, 10, 20, 30, 10, 20, 30, 10, 20, 30, 10, 20, 30]"
      ]
     },
     "execution_count": 26,
     "metadata": {},
     "output_type": "execute_result"
    }
   ],
   "source": [
    "#using mathematical operators\n",
    "#using extend() function\n",
    "x=[10,20,30]\n",
    "y.extend(x*3)\n",
    "y"
   ]
  },
  {
   "cell_type": "code",
   "execution_count": 29,
   "id": "6766a3dc",
   "metadata": {},
   "outputs": [
    {
     "data": {
      "text/plain": [
       "[10,\n",
       " 20,\n",
       " 30,\n",
       " 10,\n",
       " 20,\n",
       " 30,\n",
       " 10,\n",
       " 20,\n",
       " 30,\n",
       " 10,\n",
       " 20,\n",
       " 30,\n",
       " 10,\n",
       " 20,\n",
       " 30,\n",
       " 10,\n",
       " 20,\n",
       " 30,\n",
       " 10,\n",
       " 20,\n",
       " 30,\n",
       " 10,\n",
       " 20,\n",
       " 30,\n",
       " 10,\n",
       " 20,\n",
       " 30]"
      ]
     },
     "execution_count": 29,
     "metadata": {},
     "output_type": "execute_result"
    }
   ],
   "source": [
    "#using mathematical operators\n",
    "x=[10,20,30]\n",
    "x=x*3\n",
    "y=x*3\n",
    "y"
   ]
  },
  {
   "cell_type": "code",
   "execution_count": 40,
   "id": "201b56e4",
   "metadata": {},
   "outputs": [
    {
     "name": "stdout",
     "output_type": "stream",
     "text": [
      "False\n",
      "True\n",
      "False\n"
     ]
    }
   ],
   "source": [
    "#using unirary operator\n",
    "x=[\"Dog\",\"Cat\",\"Rat\"]\n",
    "y=[\"Dog\",\"Cat\",\"Rat\"]\n",
    "z=[\"DOG\",\"CAT\",\"RAT\"]\n",
    "print(x==z)\n",
    "print(x!=z)\n",
    "print(x!=y)"
   ]
  },
  {
   "cell_type": "code",
   "execution_count": 57,
   "id": "f78f69f6",
   "metadata": {},
   "outputs": [
    {
     "data": {
      "text/plain": [
       "30"
      ]
     },
     "execution_count": 57,
     "metadata": {},
     "output_type": "execute_result"
    }
   ],
   "source": [
    "#using tertary operator\n",
    "x=10\n",
    "y=20\n",
    "z=30\n",
    "x if x>y and x>z else y if y>z else z\n"
   ]
  },
  {
   "cell_type": "code",
   "execution_count": null,
   "id": "f89e9de4",
   "metadata": {},
   "outputs": [],
   "source": []
  },
  {
   "cell_type": "code",
   "execution_count": null,
   "id": "463f7f6f",
   "metadata": {},
   "outputs": [],
   "source": []
  }
 ],
 "metadata": {
  "kernelspec": {
   "display_name": "Python 3 (ipykernel)",
   "language": "python",
   "name": "python3"
  },
  "language_info": {
   "codemirror_mode": {
    "name": "ipython",
    "version": 3
   },
   "file_extension": ".py",
   "mimetype": "text/x-python",
   "name": "python",
   "nbconvert_exporter": "python",
   "pygments_lexer": "ipython3",
   "version": "3.9.12"
  }
 },
 "nbformat": 4,
 "nbformat_minor": 5
}
