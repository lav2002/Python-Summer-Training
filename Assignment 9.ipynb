{
 "cells": [
  {
   "cell_type": "code",
   "execution_count": 4,
   "id": "2ced0711",
   "metadata": {},
   "outputs": [
    {
     "name": "stdout",
     "output_type": "stream",
     "text": [
      "30\n",
      "45\n",
      "60\n",
      "75\n",
      "90\n",
      "105\n",
      "120\n",
      "135\n",
      "150\n",
      "165\n",
      "180\n",
      "195\n",
      "210\n"
     ]
    }
   ],
   "source": [
    "MyNum=15\n",
    "while(MyNum<200):\n",
    "    MyNum=MyNum+15\n",
    "    print(MyNum)\n",
    "#when i increase value by 15 in every iteration."
   ]
  },
  {
   "cell_type": "code",
   "execution_count": 5,
   "id": "95aedd96",
   "metadata": {},
   "outputs": [
    {
     "name": "stdout",
     "output_type": "stream",
     "text": [
      "35\n",
      "55\n",
      "75\n",
      "95\n",
      "115\n",
      "135\n",
      "155\n",
      "175\n",
      "195\n",
      "215\n"
     ]
    }
   ],
   "source": [
    "MyNum=15\n",
    "while(MyNum<200):\n",
    "    MyNum=MyNum+20\n",
    "    print(MyNum)\n",
    "#when i increase value by 20 in every iteration."
   ]
  },
  {
   "cell_type": "code",
   "execution_count": 9,
   "id": "4b40d670",
   "metadata": {},
   "outputs": [
    {
     "name": "stdout",
     "output_type": "stream",
     "text": [
      "1 x 1 = 1\n",
      "1 x 2 = 2\n"
     ]
    }
   ],
   "source": [
    "x=1\n",
    "y=2\n",
    "i=1\n",
    "while i<=y:\n",
    "    print(x,\"x\",i,\"=\",x*i)\n",
    "    i=i+1"
   ]
  },
  {
   "cell_type": "code",
   "execution_count": 31,
   "id": "bd445db8",
   "metadata": {},
   "outputs": [
    {
     "name": "stdout",
     "output_type": "stream",
     "text": [
      "42\n",
      "132\n",
      "272\n",
      "462\n",
      "702\n"
     ]
    }
   ],
   "source": [
    "x=1\n",
    "y=2\n",
    "i=1\n",
    "while i<=500:\n",
    "    x=x+5\n",
    "    y=y+5\n",
    "    print(x*y)\n",
    "    i=i+100\n",
    "    "
   ]
  },
  {
   "cell_type": "code",
   "execution_count": 79,
   "id": "4310f2f2",
   "metadata": {},
   "outputs": [
    {
     "name": "stdout",
     "output_type": "stream",
     "text": [
      "30\n",
      "45\n",
      "60\n",
      "75\n",
      "90\n",
      "105\n"
     ]
    }
   ],
   "source": [
    "MyNum=15\n",
    "while(MyNum<200):\n",
    "    MyNum=MyNum+15\n",
    "    if MyNum==120:\n",
    "        break\n",
    "    print(MyNum)\n",
    "    \n",
    "        \n"
   ]
  },
  {
   "cell_type": "code",
   "execution_count": 94,
   "id": "f8b2888c",
   "metadata": {},
   "outputs": [
    {
     "name": "stdout",
     "output_type": "stream",
     "text": [
      "pizza\n"
     ]
    }
   ],
   "source": [
    "l=['pizza','burger','chips','pepsi','mayo']\n",
    "for i in l:\n",
    "    if 'u' in i:\n",
    "        l1=i\n",
    "        break\n",
    "    print(i)"
   ]
  },
  {
   "cell_type": "code",
   "execution_count": 95,
   "id": "47148537",
   "metadata": {},
   "outputs": [
    {
     "name": "stdout",
     "output_type": "stream",
     "text": [
      "pizza\n",
      "burger\n",
      "pepsi\n",
      "mayo\n"
     ]
    }
   ],
   "source": [
    "l=['pizza','burger','chips','pepsi','mayo']\n",
    "for i in l:\n",
    "    if 'chips' in i:\n",
    "        continue\n",
    "    print(i)"
   ]
  },
  {
   "cell_type": "code",
   "execution_count": null,
   "id": "55abb323",
   "metadata": {},
   "outputs": [],
   "source": []
  }
 ],
 "metadata": {
  "kernelspec": {
   "display_name": "Python 3 (ipykernel)",
   "language": "python",
   "name": "python3"
  },
  "language_info": {
   "codemirror_mode": {
    "name": "ipython",
    "version": 3
   },
   "file_extension": ".py",
   "mimetype": "text/x-python",
   "name": "python",
   "nbconvert_exporter": "python",
   "pygments_lexer": "ipython3",
   "version": "3.9.12"
  }
 },
 "nbformat": 4,
 "nbformat_minor": 5
}
