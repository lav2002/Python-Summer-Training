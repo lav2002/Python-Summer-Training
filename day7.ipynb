{
 "cells": [
  {
   "cell_type": "code",
   "execution_count": 2,
   "id": "0db673da",
   "metadata": {},
   "outputs": [
    {
     "name": "stdout",
     "output_type": "stream",
     "text": [
      "hello brain4future good morning\n",
      "hello ravi good morning\n",
      "hello r good morning\n"
     ]
    }
   ],
   "source": [
    "def wish(name):\n",
    "    print(\"hello\",name,\"good morning\")\n",
    "wish(\"brain4future\")\n",
    "wish(\"ravi\")\n",
    "wish(\"r\")"
   ]
  },
  {
   "cell_type": "code",
   "execution_count": 14,
   "id": "653e23bd",
   "metadata": {},
   "outputs": [
    {
     "name": "stdout",
     "output_type": "stream",
     "text": [
      "first:\n"
     ]
    },
    {
     "ename": "ValueError",
     "evalue": "invalid literal for int() with base 10: ''",
     "output_type": "error",
     "traceback": [
      "\u001b[1;31m---------------------------------------------------------------------------\u001b[0m",
      "\u001b[1;31mValueError\u001b[0m                                Traceback (most recent call last)",
      "Input \u001b[1;32mIn [14]\u001b[0m, in \u001b[0;36m<cell line: 1>\u001b[1;34m()\u001b[0m\n\u001b[1;32m----> 1\u001b[0m a\u001b[38;5;241m=\u001b[39m\u001b[38;5;28;43mint\u001b[39;49m\u001b[43m(\u001b[49m\u001b[38;5;28;43minput\u001b[39;49m\u001b[43m(\u001b[49m\u001b[38;5;124;43m\"\u001b[39;49m\u001b[38;5;124;43mfirst:\u001b[39;49m\u001b[38;5;124;43m\"\u001b[39;49m\u001b[43m)\u001b[49m\u001b[43m)\u001b[49m\n\u001b[0;32m      2\u001b[0m b\u001b[38;5;241m=\u001b[39m\u001b[38;5;28mint\u001b[39m(\u001b[38;5;28minput\u001b[39m(\u001b[38;5;124m\"\u001b[39m\u001b[38;5;124msecond:\u001b[39m\u001b[38;5;124m\"\u001b[39m))\n\u001b[0;32m      3\u001b[0m \u001b[38;5;28;01mdef\u001b[39;00m \u001b[38;5;21msum\u001b[39m():\n",
      "\u001b[1;31mValueError\u001b[0m: invalid literal for int() with base 10: ''"
     ]
    }
   ],
   "source": [
    "a=int(input(\"first:\"))\n",
    "b=int(input(\"second:\"))\n",
    "def sum():\n",
    "    c=a+b\n",
    "    print(c)\n",
    "sum()"
   ]
  },
  {
   "cell_type": "code",
   "execution_count": 16,
   "id": "2c9604ae",
   "metadata": {},
   "outputs": [
    {
     "data": {
      "text/plain": [
       "30"
      ]
     },
     "execution_count": 16,
     "metadata": {},
     "output_type": "execute_result"
    }
   ],
   "source": [
    "def add(x,y):\n",
    "    return x+y\n",
    "t=add(10,20)\n",
    "t"
   ]
  },
  {
   "cell_type": "code",
   "execution_count": 18,
   "id": "c8b1920c",
   "metadata": {},
   "outputs": [
    {
     "name": "stdout",
     "output_type": "stream",
     "text": [
      "hello\n",
      "hello\n",
      "None\n"
     ]
    }
   ],
   "source": [
    "def f1():\n",
    "    print(\"hello\")\n",
    "f1()\n",
    "print(f1())"
   ]
  },
  {
   "cell_type": "code",
   "execution_count": 3,
   "id": "47cbdafe",
   "metadata": {},
   "outputs": [
    {
     "name": "stdout",
     "output_type": "stream",
     "text": [
      "The factorial of 7 is 5040\n"
     ]
    }
   ],
   "source": [
    "def factorial(x):\n",
    "    if x == 1:\n",
    "        return 1\n",
    "    else:\n",
    "        return (x * factorial(x-1))\n",
    "num = 7\n",
    "result = factorial(num)\n",
    "print(\"The factorial of\", num, \"is\", result)"
   ]
  },
  {
   "cell_type": "code",
   "execution_count": 7,
   "id": "1c5d1826",
   "metadata": {},
   "outputs": [
    {
     "name": "stdout",
     "output_type": "stream",
     "text": [
      "34\n",
      "34 is even\n"
     ]
    }
   ],
   "source": [
    "num=int(input())\n",
    "def even(val):\n",
    "    \n",
    "    if val%2==0:\n",
    "        print(val,\"is even\")\n",
    "    else:\n",
    "        print(val,\"is odd\")\n",
    "even(num)"
   ]
  },
  {
   "cell_type": "code",
   "execution_count": 9,
   "id": "b46d0971",
   "metadata": {},
   "outputs": [
    {
     "name": "stdout",
     "output_type": "stream",
     "text": [
      "-100\n",
      "100\n"
     ]
    }
   ],
   "source": [
    " def sub(a,b):\n",
    "    print(a-b)\n",
    "sub(100,200)\n",
    "sub(200,100)"
   ]
  },
  {
   "cell_type": "code",
   "execution_count": null,
   "id": "779d196e",
   "metadata": {},
   "outputs": [],
   "source": [
    "def wish(name,msg)\n",
    "    print(\"Hello\",name,msg)\n",
    "wish(name)"
   ]
  },
  {
   "cell_type": "code",
   "execution_count": 1,
   "id": "c01de693",
   "metadata": {},
   "outputs": [
    {
     "name": "stdout",
     "output_type": "stream",
     "text": [
      "Hello ashish Good Morning\n",
      "Hello Guest Good Morning\n"
     ]
    }
   ],
   "source": [
    "def wish(name=\"Guest\"):\n",
    "    print(\"Hello\",name,\"Good Morning\")\n",
    "wish(\"ashish\")\n",
    "wish()"
   ]
  },
  {
   "cell_type": "code",
   "execution_count": 8,
   "id": "f022fc49",
   "metadata": {},
   "outputs": [
    {
     "name": "stdout",
     "output_type": "stream",
     "text": [
      "Hello ashish hi there\n",
      "Hello Guest Good Morning\n"
     ]
    }
   ],
   "source": [
    "def wish(name=\"Guest\",msg=\"Good Morning\"):\n",
    "    print(\"Hello\",name,msg)\n",
    "wish(\"ashish\",\"hi there\")\n",
    "wish()\n"
   ]
  },
  {
   "cell_type": "code",
   "execution_count": 9,
   "id": "9c781aee",
   "metadata": {},
   "outputs": [
    {
     "name": "stdout",
     "output_type": "stream",
     "text": [
      "Hello ashish hi there\n"
     ]
    },
    {
     "ename": "TypeError",
     "evalue": "wish() missing 1 required positional argument: 'name'",
     "output_type": "error",
     "traceback": [
      "\u001b[1;31m---------------------------------------------------------------------------\u001b[0m",
      "\u001b[1;31mTypeError\u001b[0m                                 Traceback (most recent call last)",
      "Input \u001b[1;32mIn [9]\u001b[0m, in \u001b[0;36m<cell line: 4>\u001b[1;34m()\u001b[0m\n\u001b[0;32m      2\u001b[0m     \u001b[38;5;28mprint\u001b[39m(\u001b[38;5;124m\"\u001b[39m\u001b[38;5;124mHello\u001b[39m\u001b[38;5;124m\"\u001b[39m,name,msg)\n\u001b[0;32m      3\u001b[0m wish(\u001b[38;5;124m\"\u001b[39m\u001b[38;5;124mashish\u001b[39m\u001b[38;5;124m\"\u001b[39m,\u001b[38;5;124m\"\u001b[39m\u001b[38;5;124mhi there\u001b[39m\u001b[38;5;124m\"\u001b[39m)\n\u001b[1;32m----> 4\u001b[0m \u001b[43mwish\u001b[49m\u001b[43m(\u001b[49m\u001b[43m)\u001b[49m\n",
      "\u001b[1;31mTypeError\u001b[0m: wish() missing 1 required positional argument: 'name'"
     ]
    }
   ],
   "source": [
    "def wish(name,msg=\"Good Morning\"):\n",
    "    print(\"Hello\",name,msg)\n",
    "wish(\"ashish\",\"hi there\")\n",
    "wish()\n"
   ]
  },
  {
   "cell_type": "code",
   "execution_count": 13,
   "id": "4fac9793",
   "metadata": {},
   "outputs": [
    {
     "name": "stdout",
     "output_type": "stream",
     "text": [
      "<function f1 at 0x000001FFCCE82B80>\n"
     ]
    }
   ],
   "source": [
    "def f1(*n):\n",
    "    print(f1)\n",
    "f1()"
   ]
  },
  {
   "cell_type": "code",
   "execution_count": 16,
   "id": "a3ddf882",
   "metadata": {},
   "outputs": [
    {
     "name": "stdout",
     "output_type": "stream",
     "text": [
      "The Sum= 0\n",
      "The Sum= 10\n",
      "The Sum= 30\n",
      "The Sum= 100\n"
     ]
    }
   ],
   "source": [
    "def sum(*n):\n",
    "    t=0\n",
    "    for n1 in n:\n",
    "        t=t+n1\n",
    "    print(\"The Sum=\",t)\n",
    "    \n",
    "sum()\n",
    "sum(10)\n",
    "sum(10,20)\n",
    "sum(10,20,30,40)\n",
    "\n"
   ]
  },
  {
   "cell_type": "code",
   "execution_count": 20,
   "id": "2e5c4e6c",
   "metadata": {},
   "outputs": [
    {
     "name": "stdout",
     "output_type": "stream",
     "text": [
      "10\n",
      "10\n",
      "20\n",
      "30\n",
      "40\n",
      "10\n",
      "A\n",
      "30\n",
      "B\n"
     ]
    }
   ],
   "source": [
    "def f1(n1,*s):\n",
    "    print(n1)\n",
    "    for s1 in s:\n",
    "        print(s1)\n",
    "f1(10)\n",
    "f1(10,20,30,40)\n",
    "f1(10,\"A\",30,\"B\")"
   ]
  },
  {
   "cell_type": "code",
   "execution_count": 23,
   "id": "f35daf79",
   "metadata": {},
   "outputs": [
    {
     "ename": "TypeError",
     "evalue": "f1() missing 1 required keyword-only argument: 'n1'",
     "output_type": "error",
     "traceback": [
      "\u001b[1;31m---------------------------------------------------------------------------\u001b[0m",
      "\u001b[1;31mTypeError\u001b[0m                                 Traceback (most recent call last)",
      "Input \u001b[1;32mIn [23]\u001b[0m, in \u001b[0;36m<cell line: 5>\u001b[1;34m()\u001b[0m\n\u001b[0;32m      3\u001b[0m     \u001b[38;5;28;01mfor\u001b[39;00m s1 \u001b[38;5;129;01min\u001b[39;00m s:\n\u001b[0;32m      4\u001b[0m         \u001b[38;5;28mprint\u001b[39m(s1)\n\u001b[1;32m----> 5\u001b[0m \u001b[43mf1\u001b[49m\u001b[43m(\u001b[49m\u001b[38;5;241;43m10\u001b[39;49m\u001b[43m)\u001b[49m\n\u001b[0;32m      6\u001b[0m f1(\u001b[38;5;241m10\u001b[39m,\u001b[38;5;241m20\u001b[39m,\u001b[38;5;241m30\u001b[39m,\u001b[38;5;241m40\u001b[39m)\n\u001b[0;32m      7\u001b[0m f1(\u001b[38;5;241m10\u001b[39m,\u001b[38;5;124m\"\u001b[39m\u001b[38;5;124mA\u001b[39m\u001b[38;5;124m\"\u001b[39m,\u001b[38;5;241m30\u001b[39m,\u001b[38;5;124m\"\u001b[39m\u001b[38;5;124mB\u001b[39m\u001b[38;5;124m\"\u001b[39m)\n",
      "\u001b[1;31mTypeError\u001b[0m: f1() missing 1 required keyword-only argument: 'n1'"
     ]
    }
   ],
   "source": [
    "def f1(*s,n1):\n",
    "    print(n1)\n",
    "    for s1 in s:\n",
    "        print(s1)\n",
    "f1(10)\n",
    "f1(10,20,30,40)\n",
    "f1(10,\"A\",30,\"B\")"
   ]
  },
  {
   "cell_type": "code",
   "execution_count": 25,
   "id": "cd5d5d8f",
   "metadata": {},
   "outputs": [
    {
     "name": "stdout",
     "output_type": "stream",
     "text": [
      "[10]\n",
      "[10, 20, 30, 40]\n",
      "[10, 'A', 30, 'B']\n"
     ]
    }
   ],
   "source": [
    "def f1(n1,*s):\n",
    "    print(n1)\n",
    "    for s1 in s:\n",
    "        print(s1)\n",
    "f1([10])\n",
    "f1([10,20,30,40])\n",
    "f1([10,\"A\",30,\"B\"])"
   ]
  },
  {
   "cell_type": "code",
   "execution_count": 29,
   "id": "91b074f7",
   "metadata": {},
   "outputs": [
    {
     "name": "stdout",
     "output_type": "stream",
     "text": [
      "A\n",
      "B\n",
      "10\n"
     ]
    }
   ],
   "source": [
    "def f1(*s,n1):\n",
    "    for s1 in s:\n",
    "        print(s1)\n",
    "    print(n1)\n",
    "f1(\"A\",\"B\",n1=10)"
   ]
  },
  {
   "cell_type": "code",
   "execution_count": 30,
   "id": "328b2d3f",
   "metadata": {},
   "outputs": [
    {
     "name": "stdout",
     "output_type": "stream",
     "text": [
      "n1 = 10\n",
      "n2 = 20\n",
      "n3 = 30\n",
      "rno = 100\n",
      "name = Ashish\n",
      "marks = 70\n",
      "subject = Java\n"
     ]
    }
   ],
   "source": [
    "def display(**kwargs):\n",
    "    for k,v in kwargs.items():\n",
    "        print(k,\"=\",v)\n",
    "display(n1=10,n2=20,n3=30)\n",
    "display(rno=100,name=\"Ashish\",marks=70,subject=\"Java\")        "
   ]
  },
  {
   "cell_type": "code",
   "execution_count": 33,
   "id": "4d9a292a",
   "metadata": {},
   "outputs": [
    {
     "name": "stdout",
     "output_type": "stream",
     "text": [
      "10\n"
     ]
    }
   ],
   "source": [
    "A=10\n",
    "def f1():\n",
    "    print(A)\n",
    "f1()\n"
   ]
  },
  {
   "cell_type": "code",
   "execution_count": 34,
   "id": "9edc37c0",
   "metadata": {},
   "outputs": [
    {
     "name": "stdout",
     "output_type": "stream",
     "text": [
      "10\n"
     ]
    },
    {
     "ename": "NameError",
     "evalue": "name 'a' is not defined",
     "output_type": "error",
     "traceback": [
      "\u001b[1;31m---------------------------------------------------------------------------\u001b[0m",
      "\u001b[1;31mNameError\u001b[0m                                 Traceback (most recent call last)",
      "Input \u001b[1;32mIn [34]\u001b[0m, in \u001b[0;36m<cell line: 7>\u001b[1;34m()\u001b[0m\n\u001b[0;32m      5\u001b[0m     \u001b[38;5;28mprint\u001b[39m(a)\n\u001b[0;32m      6\u001b[0m f1()\n\u001b[1;32m----> 7\u001b[0m \u001b[43mf2\u001b[49m\u001b[43m(\u001b[49m\u001b[43m)\u001b[49m\n",
      "Input \u001b[1;32mIn [34]\u001b[0m, in \u001b[0;36mf2\u001b[1;34m()\u001b[0m\n\u001b[0;32m      4\u001b[0m \u001b[38;5;28;01mdef\u001b[39;00m \u001b[38;5;21mf2\u001b[39m():\n\u001b[1;32m----> 5\u001b[0m     \u001b[38;5;28mprint\u001b[39m(\u001b[43ma\u001b[49m)\n",
      "\u001b[1;31mNameError\u001b[0m: name 'a' is not defined"
     ]
    }
   ],
   "source": [
    "def f1():\n",
    "    a=10\n",
    "    print(a)\n",
    "def f2():\n",
    "    print(a)\n",
    "f1()\n",
    "f2()"
   ]
  },
  {
   "cell_type": "code",
   "execution_count": 40,
   "id": "0d8bd866",
   "metadata": {},
   "outputs": [
    {
     "name": "stdout",
     "output_type": "stream",
     "text": [
      "777\n",
      "10\n"
     ]
    }
   ],
   "source": [
    "a=10\n",
    "def f1():\n",
    "    a=777\n",
    "    print(a)\n",
    "def f2():\n",
    "    print(a)\n",
    "f1()\n",
    "f2()"
   ]
  },
  {
   "cell_type": "code",
   "execution_count": 53,
   "id": "1a6df525",
   "metadata": {},
   "outputs": [
    {
     "name": "stdout",
     "output_type": "stream",
     "text": [
      "777\n",
      "777\n"
     ]
    }
   ],
   "source": [
    "a=10\n",
    "def f1():\n",
    "    global a\n",
    "    a=777\n",
    "    print(a)\n",
    "def f2():\n",
    "    print(a)\n",
    "f1()\n",
    "f2()"
   ]
  },
  {
   "cell_type": "code",
   "execution_count": 61,
   "id": "ed2d49ce",
   "metadata": {},
   "outputs": [
    {
     "name": "stdout",
     "output_type": "stream",
     "text": [
      "False\n",
      "True\n",
      "{'abc': 40, 'ashish': 45, 'xyz': 466}\n"
     ]
    }
   ],
   "source": [
    "d1={\"abc\":40,\"ashish\":45}\n",
    "d2={\"xyz\":466,\"ashish\":45}\n",
    "print(d1==d2)\n",
    "print(d1!=d2)\n",
    "print(d1|d2)"
   ]
  },
  {
   "cell_type": "code",
   "execution_count": 65,
   "id": "03ed18a0",
   "metadata": {},
   "outputs": [
    {
     "data": {
      "text/plain": [
       "'A'"
      ]
     },
     "execution_count": 65,
     "metadata": {},
     "output_type": "execute_result"
    }
   ],
   "source": [
    "a={1:\"A\",2:\"B\",3:\"C\"}\n",
    "a.get(1,4)"
   ]
  },
  {
   "cell_type": "code",
   "execution_count": null,
   "id": "867b7425",
   "metadata": {},
   "outputs": [],
   "source": []
  }
 ],
 "metadata": {
  "kernelspec": {
   "display_name": "Python 3 (ipykernel)",
   "language": "python",
   "name": "python3"
  },
  "language_info": {
   "codemirror_mode": {
    "name": "ipython",
    "version": 3
   },
   "file_extension": ".py",
   "mimetype": "text/x-python",
   "name": "python",
   "nbconvert_exporter": "python",
   "pygments_lexer": "ipython3",
   "version": "3.9.12"
  }
 },
 "nbformat": 4,
 "nbformat_minor": 5
}
