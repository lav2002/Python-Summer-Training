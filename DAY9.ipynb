{
 "cells": [
  {
   "cell_type": "code",
   "execution_count": 9,
   "id": "537044cc",
   "metadata": {},
   "outputs": [
    {
     "name": "stdout",
     "output_type": "stream",
     "text": [
      "[2, 4, 6, 8, 10]\n"
     ]
    }
   ],
   "source": [
    "#using map function without lambda function.\n",
    "l1=[1,2,3,4,5]\n",
    "def doubleit(x):\n",
    "    return 2*x\n",
    "l=list(map(doubleit,l1))\n",
    "print(l)"
   ]
  },
  {
   "cell_type": "code",
   "execution_count": 10,
   "id": "c4356a1f",
   "metadata": {},
   "outputs": [
    {
     "data": {
      "text/plain": [
       "[2, 4, 6, 8, 10]"
      ]
     },
     "execution_count": 10,
     "metadata": {},
     "output_type": "execute_result"
    }
   ],
   "source": [
    "#using map function with lambda function.\n",
    "l=[1,2,3,4,5]\n",
    "out=lambda a:a*2\n",
    "l1=list(map(out,l))\n",
    "l1"
   ]
  },
  {
   "cell_type": "code",
   "execution_count": 11,
   "id": "d79ed7b9",
   "metadata": {},
   "outputs": [
    {
     "data": {
      "text/plain": [
       "(2, 4, 6, 8, 10)"
      ]
     },
     "execution_count": 11,
     "metadata": {},
     "output_type": "execute_result"
    }
   ],
   "source": [
    "#using map function with lambda function.\n",
    "#printing in tuple\n",
    "l=[1,2,3,4,5]\n",
    "out=lambda a:a*2\n",
    "l1=tuple(map(out,l))\n",
    "l1"
   ]
  },
  {
   "cell_type": "code",
   "execution_count": 13,
   "id": "acbf1634",
   "metadata": {},
   "outputs": [
    {
     "data": {
      "text/plain": [
       "{2, 4, 6, 8, 10}"
      ]
     },
     "execution_count": 13,
     "metadata": {},
     "output_type": "execute_result"
    }
   ],
   "source": [
    "#using map function with lambda function.\n",
    "#printing in sets\n",
    "l=[1,2,3,4,5]\n",
    "out=lambda a:a*2\n",
    "l1=set(map(out,l))\n",
    "l1"
   ]
  },
  {
   "cell_type": "code",
   "execution_count": 15,
   "id": "ef342987",
   "metadata": {},
   "outputs": [
    {
     "data": {
      "text/plain": [
       "[2, 6, 12, 20]"
      ]
     },
     "execution_count": 15,
     "metadata": {},
     "output_type": "execute_result"
    }
   ],
   "source": [
    "#using map function with lambda function.\n",
    "#with 2 list.\n",
    "l1=[1,2,3,4]\n",
    "l2=[2,3,4,5]\n",
    "l3=lambda a,b:a*b\n",
    "out=list(map(l3,l1,l2))\n",
    "out"
   ]
  },
  {
   "cell_type": "code",
   "execution_count": 22,
   "id": "854ad5ca",
   "metadata": {},
   "outputs": [
    {
     "data": {
      "text/plain": [
       "150"
      ]
     },
     "execution_count": 22,
     "metadata": {},
     "output_type": "execute_result"
    }
   ],
   "source": [
    "#importing functools to make one value from a list.\n",
    "from functools import *\n",
    "l=[10,20,30,40,50]\n",
    "r=lambda x,y:x+y\n",
    "out=reduce(r,l)\n",
    "out"
   ]
  },
  {
   "cell_type": "code",
   "execution_count": 26,
   "id": "a4f369d7",
   "metadata": {},
   "outputs": [
    {
     "data": {
      "text/plain": [
       "0.5"
      ]
     },
     "execution_count": 26,
     "metadata": {},
     "output_type": "execute_result"
    }
   ],
   "source": [
    "from functools import *\n",
    "l=[10,20]\n",
    "r=lambda x,y:x/y\n",
    "out=reduce(r,l)\n",
    "out"
   ]
  },
  {
   "cell_type": "code",
   "execution_count": 29,
   "id": "21748984",
   "metadata": {},
   "outputs": [
    {
     "name": "stdout",
     "output_type": "stream",
     "text": [
      "2542746078368\n",
      "2542746078368\n",
      "Good morning: ashish\n",
      "Good morning: ashish\n"
     ]
    }
   ],
   "source": [
    "#function alising\n",
    "def wish(name):\n",
    "    print(\"Good morning:\",name)\n",
    "greeting=wish\n",
    "print(id(wish))\n",
    "print(id(greeting))\n",
    "greeting('ashish')\n",
    "wish('ashish')"
   ]
  },
  {
   "cell_type": "code",
   "execution_count": 30,
   "id": "b75d0466",
   "metadata": {},
   "outputs": [
    {
     "name": "stdout",
     "output_type": "stream",
     "text": [
      "Good morning: ashish\n",
      "Good morning: ashish\n",
      "Good morning: Pavan\n"
     ]
    }
   ],
   "source": [
    "def wish(name):\n",
    "    print(\"Good morning:\",name)\n",
    "greeting=wish\n",
    "greeting('ashish')\n",
    "wish('ashish')\n",
    "del wish\n",
    "greeting('Pavan')"
   ]
  },
  {
   "cell_type": "code",
   "execution_count": 33,
   "id": "b0111ba2",
   "metadata": {},
   "outputs": [
    {
     "name": "stdout",
     "output_type": "stream",
     "text": [
      "outer function started\n",
      "outer function calling inner function\n",
      "inner function execution\n"
     ]
    }
   ],
   "source": [
    "#nested function\n",
    "def outer():\n",
    "    print(\"outer function started\")\n",
    "    def inner():\n",
    "        print(\"inner function execution\")\n",
    "    print(\"outer function calling inner function\")\n",
    "    inner()\n",
    "outer()"
   ]
  },
  {
   "cell_type": "code",
   "execution_count": null,
   "id": "5130a34f",
   "metadata": {},
   "outputs": [],
   "source": []
  },
  {
   "cell_type": "code",
   "execution_count": null,
   "id": "17365d93",
   "metadata": {},
   "outputs": [],
   "source": []
  }
 ],
 "metadata": {
  "kernelspec": {
   "display_name": "Python 3 (ipykernel)",
   "language": "python",
   "name": "python3"
  },
  "language_info": {
   "codemirror_mode": {
    "name": "ipython",
    "version": 3
   },
   "file_extension": ".py",
   "mimetype": "text/x-python",
   "name": "python",
   "nbconvert_exporter": "python",
   "pygments_lexer": "ipython3",
   "version": "3.9.12"
  }
 },
 "nbformat": 4,
 "nbformat_minor": 5
}
