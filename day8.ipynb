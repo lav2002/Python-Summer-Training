{
 "cells": [
  {
   "cell_type": "code",
   "execution_count": 1,
   "id": "2853580e",
   "metadata": {},
   "outputs": [
    {
     "name": "stdout",
     "output_type": "stream",
     "text": [
      "The factorial of 7 is 5040\n"
     ]
    }
   ],
   "source": [
    "def factorial(x):\n",
    "    if x == 1:\n",
    "        return 1\n",
    "    else:\n",
    "        return (x * factorial(x-1))\n",
    "num = 7\n",
    "result = factorial(num)\n",
    "print(\"The factorial of\", num, \"is\", result)"
   ]
  },
  {
   "cell_type": "code",
   "execution_count": 8,
   "id": "80ddefa1",
   "metadata": {},
   "outputs": [
    {
     "name": "stdout",
     "output_type": "stream",
     "text": [
      "The square of 4 is: 16\n",
      "The square of 5 is: 25\n"
     ]
    }
   ],
   "source": [
    "a=lambda n:n*n\n",
    "print(\"The square of 4 is:\",a(4))\n",
    "print(\"The square of 5 is:\",a(5))"
   ]
  },
  {
   "cell_type": "code",
   "execution_count": 13,
   "id": "10f4f2ad",
   "metadata": {},
   "outputs": [
    {
     "name": "stdout",
     "output_type": "stream",
     "text": [
      "The square of 4 is: 0.8\n",
      "The square of 5 is: 1.0\n"
     ]
    }
   ],
   "source": [
    "b=5\n",
    "a=lambda n:n/b\n",
    "print(\"The square of 4 is:\",a(4))\n",
    "print(\"The square of 5 is:\",a(5))"
   ]
  },
  {
   "cell_type": "code",
   "execution_count": 18,
   "id": "95ec819f",
   "metadata": {},
   "outputs": [
    {
     "name": "stdout",
     "output_type": "stream",
     "text": [
      "The square of 4 is: 8\n",
      "The square of 5 is: 10\n"
     ]
    }
   ],
   "source": [
    "a=lambda n:n+n\n",
    "print(\"The addition of 4 is:\",a(4))\n",
    "print(\"The addition of 5 is:\",a(5))"
   ]
  },
  {
   "cell_type": "code",
   "execution_count": 24,
   "id": "8db5b347",
   "metadata": {},
   "outputs": [
    {
     "name": "stdout",
     "output_type": "stream",
     "text": [
      "The biggest of 10,20 is: 20\n",
      "The biggest of 100,200 is: 200\n"
     ]
    }
   ],
   "source": [
    "a=lambda a,b:a if a>b else b\n",
    "print(\"The biggest of 10,20 is:\",a(10,20))\n",
    "print(\"The biggest of 100,200 is:\",a(100,200))\n"
   ]
  },
  {
   "cell_type": "code",
   "execution_count": 39,
   "id": "7dd9c3de",
   "metadata": {},
   "outputs": [
    {
     "data": {
      "text/plain": [
       "[2, 4, 6, 8, 10]"
      ]
     },
     "execution_count": 39,
     "metadata": {},
     "output_type": "execute_result"
    }
   ],
   "source": [
    "def iseven(x):\n",
    "    if x%2==0:\n",
    "        return True\n",
    "    else:\n",
    "        return False\n",
    "l=[1,2,3,4,5,6,7,8,9,10]\n",
    "l1=list(filter(iseven,l))\n",
    "l1"
   ]
  },
  {
   "cell_type": "code",
   "execution_count": 51,
   "id": "90ec802e",
   "metadata": {},
   "outputs": [
    {
     "data": {
      "text/plain": [
       "[2, 4, 6, 8, 10, 12]"
      ]
     },
     "execution_count": 51,
     "metadata": {},
     "output_type": "execute_result"
    }
   ],
   "source": [
    "l=[1,2,3,4,5,6,7,8,9,10,11,12]\n",
    "out=lambda a:a%2==0\n",
    "l1=list(filter(out,l))\n",
    "l1"
   ]
  },
  {
   "cell_type": "code",
   "execution_count": null,
   "id": "a3dfc2de",
   "metadata": {},
   "outputs": [],
   "source": []
  },
  {
   "cell_type": "code",
   "execution_count": null,
   "id": "998c6e74",
   "metadata": {},
   "outputs": [],
   "source": []
  }
 ],
 "metadata": {
  "kernelspec": {
   "display_name": "Python 3 (ipykernel)",
   "language": "python",
   "name": "python3"
  },
  "language_info": {
   "codemirror_mode": {
    "name": "ipython",
    "version": 3
   },
   "file_extension": ".py",
   "mimetype": "text/x-python",
   "name": "python",
   "nbconvert_exporter": "python",
   "pygments_lexer": "ipython3",
   "version": "3.9.12"
  }
 },
 "nbformat": 4,
 "nbformat_minor": 5
}
