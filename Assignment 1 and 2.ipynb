{
 "cells": [
  {
   "cell_type": "code",
   "execution_count": 25,
   "id": "74d965b1",
   "metadata": {
    "scrolled": true
   },
   "outputs": [
    {
     "name": "stdout",
     "output_type": "stream",
     "text": [
      "Hello,Python\n"
     ]
    }
   ],
   "source": [
    "print (\"Hello,Python\")"
   ]
  },
  {
   "cell_type": "code",
   "execution_count": 26,
   "id": "d4bf4091",
   "metadata": {},
   "outputs": [
    {
     "name": "stdout",
     "output_type": "stream",
     "text": [
      "Lavkush,Here\n"
     ]
    }
   ],
   "source": [
    "print (\"Lavkush,Here\")"
   ]
  },
  {
   "cell_type": "code",
   "execution_count": 27,
   "id": "eab9b445",
   "metadata": {},
   "outputs": [
    {
     "name": "stdout",
     "output_type": "stream",
     "text": [
      "I am very interested to learn python\n"
     ]
    }
   ],
   "source": [
    "print (\"I am very interested to learn python\")"
   ]
  },
  {
   "cell_type": "code",
   "execution_count": 28,
   "id": "e469f0cd",
   "metadata": {},
   "outputs": [
    {
     "name": "stdout",
     "output_type": "stream",
     "text": [
      "I know I can do it\n"
     ]
    }
   ],
   "source": [
    "print (\"I know I can do it\")"
   ]
  },
  {
   "cell_type": "code",
   "execution_count": 29,
   "id": "9e552865",
   "metadata": {},
   "outputs": [
    {
     "name": "stdout",
     "output_type": "stream",
     "text": [
      "2031\n"
     ]
    }
   ],
   "source": [
    "dd=18\n",
    "mm=11\n",
    "yyyy=2002\n",
    "total=dd+mm+yyyy\n",
    "print(total)"
   ]
  },
  {
   "cell_type": "code",
   "execution_count": 30,
   "id": "3b7cc412",
   "metadata": {},
   "outputs": [
    {
     "name": "stdout",
     "output_type": "stream",
     "text": [
      "120\n"
     ]
    }
   ],
   "source": [
    "a=80\n",
    "b=200-a\n",
    "print(b)"
   ]
  },
  {
   "cell_type": "code",
   "execution_count": 33,
   "id": "d58e84ff",
   "metadata": {},
   "outputs": [
    {
     "name": "stdout",
     "output_type": "stream",
     "text": [
      "My weight is 120 less than 200\n"
     ]
    }
   ],
   "source": [
    "a=80\n",
    "b=200-a\n",
    "print(\"My weight is\",b,\"less than 200\")"
   ]
  },
  {
   "cell_type": "code",
   "execution_count": 76,
   "id": "29e3d285",
   "metadata": {},
   "outputs": [
    {
     "data": {
      "text/plain": [
       "60"
      ]
     },
     "execution_count": 76,
     "metadata": {},
     "output_type": "execute_result"
    }
   ],
   "source": [
    "s=20\n",
    "t=3*20 \n",
    "print(t)"
   ]
  },
  {
   "cell_type": "code",
   "execution_count": 36,
   "id": "b246c2e6",
   "metadata": {},
   "outputs": [
    {
     "name": "stdout",
     "output_type": "stream",
     "text": [
      "My new salary is 60 LPA\n"
     ]
    }
   ],
   "source": [
    "s=20\n",
    "t=3*20\n",
    "print(\"My new salary is\",t,\"LPA\")"
   ]
  },
  {
   "cell_type": "code",
   "execution_count": 37,
   "id": "4e35942d",
   "metadata": {},
   "outputs": [
    {
     "name": "stdout",
     "output_type": "stream",
     "text": [
      "40.0\n"
     ]
    }
   ],
   "source": [
    "exp=30\n",
    "avg=1200/exp\n",
    "print(avg)"
   ]
  },
  {
   "cell_type": "code",
   "execution_count": 77,
   "id": "148781b7",
   "metadata": {},
   "outputs": [
    {
     "ename": "TypeError",
     "evalue": "'int' object is not callable",
     "output_type": "error",
     "traceback": [
      "\u001b[1;31m---------------------------------------------------------------------------\u001b[0m",
      "\u001b[1;31mTypeError\u001b[0m                                 Traceback (most recent call last)",
      "Input \u001b[1;32mIn [77]\u001b[0m, in \u001b[0;36m<cell line: 1>\u001b[1;34m()\u001b[0m\n\u001b[1;32m----> 1\u001b[0m x\u001b[38;5;241m=\u001b[39m\u001b[38;5;28;43mpow\u001b[39;49m\u001b[43m(\u001b[49m\u001b[38;5;241;43m3\u001b[39;49m\u001b[43m,\u001b[49m\u001b[38;5;241;43m3\u001b[39;49m\u001b[43m)\u001b[49m\n\u001b[0;32m      2\u001b[0m \u001b[38;5;28mprint\u001b[39m(x)\n",
      "\u001b[1;31mTypeError\u001b[0m: 'int' object is not callable"
     ]
    }
   ],
   "source": [
    "x=pow(3,3)\n",
    "print(x)\n"
   ]
  },
  {
   "cell_type": "code",
   "execution_count": 53,
   "id": "265d8952",
   "metadata": {},
   "outputs": [
    {
     "name": "stdout",
     "output_type": "stream",
     "text": [
      "0\n"
     ]
    }
   ],
   "source": [
    "exp=1200\n",
    "avg=exp%3\n",
    "print(avg)"
   ]
  },
  {
   "cell_type": "code",
   "execution_count": 60,
   "id": "dff27c8c",
   "metadata": {},
   "outputs": [],
   "source": [
    "myweight=78"
   ]
  },
  {
   "cell_type": "code",
   "execution_count": 61,
   "id": "75fbf84c",
   "metadata": {},
   "outputs": [],
   "source": [
    "myweight+=2"
   ]
  },
  {
   "cell_type": "code",
   "execution_count": 62,
   "id": "5414530b",
   "metadata": {},
   "outputs": [
    {
     "name": "stdout",
     "output_type": "stream",
     "text": [
      "80\n"
     ]
    }
   ],
   "source": [
    "print(myweight)"
   ]
  },
  {
   "cell_type": "code",
   "execution_count": 63,
   "id": "4a35c76d",
   "metadata": {},
   "outputs": [],
   "source": [
    "myweight-=2"
   ]
  },
  {
   "cell_type": "code",
   "execution_count": 64,
   "id": "a5d31e9c",
   "metadata": {},
   "outputs": [
    {
     "name": "stdout",
     "output_type": "stream",
     "text": [
      "78\n"
     ]
    }
   ],
   "source": [
    "print(myweight)"
   ]
  },
  {
   "cell_type": "code",
   "execution_count": 65,
   "id": "60f0ce72",
   "metadata": {},
   "outputs": [],
   "source": [
    "myfamilysize=5"
   ]
  },
  {
   "cell_type": "code",
   "execution_count": 66,
   "id": "dc776c0f",
   "metadata": {},
   "outputs": [
    {
     "name": "stdout",
     "output_type": "stream",
     "text": [
      "True\n"
     ]
    }
   ],
   "source": [
    "print(myfamilysize==5)"
   ]
  },
  {
   "cell_type": "code",
   "execution_count": 67,
   "id": "4cc10014",
   "metadata": {},
   "outputs": [
    {
     "name": "stdout",
     "output_type": "stream",
     "text": [
      "False\n"
     ]
    }
   ],
   "source": [
    "print(myfamilysize==10)"
   ]
  },
  {
   "cell_type": "code",
   "execution_count": 70,
   "id": "0a84ead0",
   "metadata": {},
   "outputs": [
    {
     "name": "stdout",
     "output_type": "stream",
     "text": [
      "True\n"
     ]
    }
   ],
   "source": [
    "print(myfamilysize>=2)"
   ]
  },
  {
   "cell_type": "code",
   "execution_count": 71,
   "id": "b67b8329",
   "metadata": {},
   "outputs": [
    {
     "name": "stdout",
     "output_type": "stream",
     "text": [
      "False\n"
     ]
    }
   ],
   "source": [
    "print(myfamilysize<=1)"
   ]
  },
  {
   "cell_type": "code",
   "execution_count": 72,
   "id": "d60d684d",
   "metadata": {},
   "outputs": [
    {
     "name": "stdout",
     "output_type": "stream",
     "text": [
      "True\n"
     ]
    }
   ],
   "source": [
    "print(myfamilysize!=10)"
   ]
  },
  {
   "cell_type": "code",
   "execution_count": 73,
   "id": "19ae9801",
   "metadata": {},
   "outputs": [],
   "source": [
    "myluckynumber=7\n",
    "mybirthday=2"
   ]
  },
  {
   "cell_type": "code",
   "execution_count": 74,
   "id": "c775b4b8",
   "metadata": {},
   "outputs": [
    {
     "data": {
      "text/plain": [
       "2"
      ]
     },
     "execution_count": 74,
     "metadata": {},
     "output_type": "execute_result"
    }
   ],
   "source": [
    "myluckynumber and mybirthday"
   ]
  },
  {
   "cell_type": "code",
   "execution_count": 75,
   "id": "37f05ac8",
   "metadata": {},
   "outputs": [
    {
     "data": {
      "text/plain": [
       "7"
      ]
     },
     "execution_count": 75,
     "metadata": {},
     "output_type": "execute_result"
    }
   ],
   "source": [
    "myluckynumber or mybirthday"
   ]
  },
  {
   "cell_type": "code",
   "execution_count": null,
   "id": "89199b8b",
   "metadata": {},
   "outputs": [],
   "source": [
    " #2nd Assignment"
   ]
  },
  {
   "cell_type": "code",
   "execution_count": 81,
   "id": "613e7ebe",
   "metadata": {},
   "outputs": [],
   "source": [
    "a=int(78)\n",
    "b=int(-9)\n",
    "c=int(3424211213132131)"
   ]
  },
  {
   "cell_type": "code",
   "execution_count": 82,
   "id": "2fd3589c",
   "metadata": {},
   "outputs": [
    {
     "data": {
      "text/plain": [
       "int"
      ]
     },
     "execution_count": 82,
     "metadata": {},
     "output_type": "execute_result"
    }
   ],
   "source": [
    "type(a)\n",
    "type(b)\n",
    "type(c)"
   ]
  },
  {
   "cell_type": "code",
   "execution_count": 83,
   "id": "40f03990",
   "metadata": {},
   "outputs": [
    {
     "data": {
      "text/plain": [
       "float"
      ]
     },
     "execution_count": 83,
     "metadata": {},
     "output_type": "execute_result"
    }
   ],
   "source": [
    "a=float(7.3)\n",
    "type(a)"
   ]
  },
  {
   "cell_type": "code",
   "execution_count": 94,
   "id": "a4687f63",
   "metadata": {},
   "outputs": [
    {
     "name": "stdout",
     "output_type": "stream",
     "text": [
      "7.2\n",
      "4.8\n",
      "7.199999999999999\n",
      "5.0\n",
      "2.220446049250313e-16\n"
     ]
    }
   ],
   "source": [
    "myint=int(6)\n",
    "myfloat=float(1.2)\n",
    "print(myint+myfloat)\n",
    "print(myint-myfloat)\n",
    "print(myint*myfloat)\n",
    "print(myint/myfloat)\n",
    "print(myint%myfloat)\n",
    "\n"
   ]
  },
  {
   "cell_type": "code",
   "execution_count": 96,
   "id": "a090623b",
   "metadata": {},
   "outputs": [
    {
     "data": {
      "text/plain": [
       "bool"
      ]
     },
     "execution_count": 96,
     "metadata": {},
     "output_type": "execute_result"
    }
   ],
   "source": [
    "mybooleanvar=bool(True)\n",
    "type(mybooleanvar)"
   ]
  },
  {
   "cell_type": "code",
   "execution_count": 97,
   "id": "2c983316",
   "metadata": {},
   "outputs": [
    {
     "data": {
      "text/plain": [
       "bool"
      ]
     },
     "execution_count": 97,
     "metadata": {},
     "output_type": "execute_result"
    }
   ],
   "source": [
    "mycomplexnvar=bool(3+4j)\n",
    "type(mycomplexnvar)"
   ]
  },
  {
   "cell_type": "code",
   "execution_count": null,
   "id": "3ed16680",
   "metadata": {},
   "outputs": [],
   "source": []
  }
 ],
 "metadata": {
  "kernelspec": {
   "display_name": "Python 3 (ipykernel)",
   "language": "python",
   "name": "python3"
  },
  "language_info": {
   "codemirror_mode": {
    "name": "ipython",
    "version": 3
   },
   "file_extension": ".py",
   "mimetype": "text/x-python",
   "name": "python",
   "nbconvert_exporter": "python",
   "pygments_lexer": "ipython3",
   "version": "3.9.12"
  }
 },
 "nbformat": 4,
 "nbformat_minor": 5
}
