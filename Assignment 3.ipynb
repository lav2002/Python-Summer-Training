{
 "cells": [
  {
   "cell_type": "code",
   "execution_count": 23,
   "id": "917c11c3",
   "metadata": {},
   "outputs": [
    {
     "data": {
      "text/plain": [
       "'m'"
      ]
     },
     "execution_count": 23,
     "metadata": {},
     "output_type": "execute_result"
    }
   ],
   "source": [
    "myname=\"Aman\"\n",
    "myname[1]"
   ]
  },
  {
   "cell_type": "code",
   "execution_count": 24,
   "id": "a2d896d4",
   "metadata": {},
   "outputs": [
    {
     "data": {
      "text/plain": [
       "'a'"
      ]
     },
     "execution_count": 24,
     "metadata": {},
     "output_type": "execute_result"
    }
   ],
   "source": [
    "myname[2]"
   ]
  },
  {
   "cell_type": "code",
   "execution_count": 25,
   "id": "2828f8df",
   "metadata": {},
   "outputs": [
    {
     "data": {
      "text/plain": [
       "'n'"
      ]
     },
     "execution_count": 25,
     "metadata": {},
     "output_type": "execute_result"
    }
   ],
   "source": [
    "myname[3]"
   ]
  },
  {
   "cell_type": "code",
   "execution_count": 81,
   "id": "1745c7b9",
   "metadata": {},
   "outputs": [
    {
     "data": {
      "text/plain": [
       "'Am'"
      ]
     },
     "execution_count": 81,
     "metadata": {},
     "output_type": "execute_result"
    }
   ],
   "source": [
    "s=slice(2)\n",
    "myname[s]"
   ]
  },
  {
   "cell_type": "code",
   "execution_count": 82,
   "id": "9f98caa1",
   "metadata": {},
   "outputs": [
    {
     "data": {
      "text/plain": [
       "'Ama'"
      ]
     },
     "execution_count": 82,
     "metadata": {},
     "output_type": "execute_result"
    }
   ],
   "source": [
    "s=slice(3)\n",
    "myname[s]"
   ]
  },
  {
   "cell_type": "code",
   "execution_count": 83,
   "id": "e81e4e6e",
   "metadata": {},
   "outputs": [
    {
     "data": {
      "text/plain": [
       "'ma'"
      ]
     },
     "execution_count": 83,
     "metadata": {},
     "output_type": "execute_result"
    }
   ],
   "source": [
    "s=slice(1,3)\n",
    "myname[s]"
   ]
  },
  {
   "cell_type": "code",
   "execution_count": 84,
   "id": "3e2f5f7b",
   "metadata": {},
   "outputs": [
    {
     "data": {
      "text/plain": [
       "'man'"
      ]
     },
     "execution_count": 84,
     "metadata": {},
     "output_type": "execute_result"
    }
   ],
   "source": [
    "s=slice(1,4)\n",
    "myname[s]"
   ]
  },
  {
   "cell_type": "code",
   "execution_count": 44,
   "id": "d984172f",
   "metadata": {},
   "outputs": [
    {
     "data": {
      "text/plain": [
       "True"
      ]
     },
     "execution_count": 44,
     "metadata": {},
     "output_type": "execute_result"
    }
   ],
   "source": [
    "myname[s]==\"man\""
   ]
  },
  {
   "cell_type": "code",
   "execution_count": 50,
   "id": "a4aea72d",
   "metadata": {},
   "outputs": [],
   "source": [
    "myname=\"Aman\"\n",
    "surname=\"Kumar\"\n",
    "full=myname + surname"
   ]
  },
  {
   "cell_type": "code",
   "execution_count": 51,
   "id": "902d311b",
   "metadata": {},
   "outputs": [
    {
     "data": {
      "text/plain": [
       "'AmanKumar'"
      ]
     },
     "execution_count": 51,
     "metadata": {},
     "output_type": "execute_result"
    }
   ],
   "source": [
    "full"
   ]
  },
  {
   "cell_type": "code",
   "execution_count": 53,
   "id": "7558e697",
   "metadata": {},
   "outputs": [
    {
     "data": {
      "text/plain": [
       "'Aman Kumar'"
      ]
     },
     "execution_count": 53,
     "metadata": {},
     "output_type": "execute_result"
    }
   ],
   "source": [
    "full=myname + \" \" + surname\n",
    "full"
   ]
  },
  {
   "cell_type": "code",
   "execution_count": 59,
   "id": "7141d2b9",
   "metadata": {},
   "outputs": [
    {
     "data": {
      "text/plain": [
       "'      Hello, my name is Aman         '"
      ]
     },
     "execution_count": 59,
     "metadata": {},
     "output_type": "execute_result"
    }
   ],
   "source": [
    "f=\"      Hello, my name is Aman         \"\n",
    "f"
   ]
  },
  {
   "cell_type": "code",
   "execution_count": 60,
   "id": "1090dc57",
   "metadata": {},
   "outputs": [
    {
     "data": {
      "text/plain": [
       "'Hello, my name is Aman'"
      ]
     },
     "execution_count": 60,
     "metadata": {},
     "output_type": "execute_result"
    }
   ],
   "source": [
    "out=f.strip()\n",
    "out"
   ]
  },
  {
   "cell_type": "code",
   "execution_count": 73,
   "id": "6959fd3f",
   "metadata": {},
   "outputs": [
    {
     "data": {
      "text/plain": [
       "19"
      ]
     },
     "execution_count": 73,
     "metadata": {},
     "output_type": "execute_result"
    }
   ],
   "source": [
    "mysentence=len(\"Hello, how are you?\")\n",
    "mysentence"
   ]
  },
  {
   "cell_type": "code",
   "execution_count": 74,
   "id": "f312d0f4",
   "metadata": {},
   "outputs": [
    {
     "data": {
      "text/plain": [
       "'hello, how are you?'"
      ]
     },
     "execution_count": 74,
     "metadata": {},
     "output_type": "execute_result"
    }
   ],
   "source": [
    "mysentence=\"Hello, how are you?\"\n",
    "mysentence.lower()"
   ]
  },
  {
   "cell_type": "code",
   "execution_count": 75,
   "id": "8a2ee2e0",
   "metadata": {},
   "outputs": [
    {
     "data": {
      "text/plain": [
       "'HELLO, HOW ARE YOU?'"
      ]
     },
     "execution_count": 75,
     "metadata": {},
     "output_type": "execute_result"
    }
   ],
   "source": [
    "mysentence.upper()"
   ]
  },
  {
   "cell_type": "code",
   "execution_count": 77,
   "id": "0d25a85f",
   "metadata": {},
   "outputs": [
    {
     "data": {
      "text/plain": [
       "'Hell#, h#w are y#u?'"
      ]
     },
     "execution_count": 77,
     "metadata": {},
     "output_type": "execute_result"
    }
   ],
   "source": [
    "mysentence.replace(\"o\",\"#\")"
   ]
  },
  {
   "cell_type": "code",
   "execution_count": 78,
   "id": "39b78c81",
   "metadata": {},
   "outputs": [
    {
     "data": {
      "text/plain": [
       "['Hello,', 'how', 'are', 'you?']"
      ]
     },
     "execution_count": 78,
     "metadata": {},
     "output_type": "execute_result"
    }
   ],
   "source": [
    "mysentence.split()"
   ]
  },
  {
   "cell_type": "code",
   "execution_count": 90,
   "id": "a9168fbd",
   "metadata": {},
   "outputs": [
    {
     "data": {
      "text/plain": [
       "'Hello, how are you?'"
      ]
     },
     "execution_count": 90,
     "metadata": {},
     "output_type": "execute_result"
    }
   ],
   "source": [
    "mysentence.capitalize()"
   ]
  },
  {
   "cell_type": "code",
   "execution_count": 93,
   "id": "b9a8eb83",
   "metadata": {},
   "outputs": [],
   "source": [
    "#extra"
   ]
  },
  {
   "cell_type": "code",
   "execution_count": 92,
   "id": "cf5aa9bf",
   "metadata": {},
   "outputs": [
    {
     "data": {
      "text/plain": [
       "False"
      ]
     },
     "execution_count": 92,
     "metadata": {},
     "output_type": "execute_result"
    }
   ],
   "source": [
    "l1=[10,20,30,40]\n",
    "l2=[10,20,30,40]\n",
    "l1 is l2"
   ]
  },
  {
   "cell_type": "code",
   "execution_count": null,
   "id": "f78cc441",
   "metadata": {},
   "outputs": [],
   "source": []
  }
 ],
 "metadata": {
  "kernelspec": {
   "display_name": "Python 3 (ipykernel)",
   "language": "python",
   "name": "python3"
  },
  "language_info": {
   "codemirror_mode": {
    "name": "ipython",
    "version": 3
   },
   "file_extension": ".py",
   "mimetype": "text/x-python",
   "name": "python",
   "nbconvert_exporter": "python",
   "pygments_lexer": "ipython3",
   "version": "3.9.12"
  }
 },
 "nbformat": 4,
 "nbformat_minor": 5
}
