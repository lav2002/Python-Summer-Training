{
 "cells": [
  {
   "cell_type": "code",
   "execution_count": 4,
   "id": "43a73394",
   "metadata": {},
   "outputs": [
    {
     "name": "stdout",
     "output_type": "stream",
     "text": [
      "{40, 10, 20, 30}\n",
      "<class 'set'>\n"
     ]
    }
   ],
   "source": [
    "s={10,20,30,40}\n",
    "print(s)\n",
    "print(type(s))"
   ]
  },
  {
   "cell_type": "code",
   "execution_count": 5,
   "id": "7ce53c4f",
   "metadata": {},
   "outputs": [
    {
     "ename": "TypeError",
     "evalue": "'set' object is not subscriptable",
     "output_type": "error",
     "traceback": [
      "\u001b[1;31m---------------------------------------------------------------------------\u001b[0m",
      "\u001b[1;31mTypeError\u001b[0m                                 Traceback (most recent call last)",
      "Input \u001b[1;32mIn [5]\u001b[0m, in \u001b[0;36m<cell line: 1>\u001b[1;34m()\u001b[0m\n\u001b[1;32m----> 1\u001b[0m \u001b[43ms\u001b[49m\u001b[43m[\u001b[49m\u001b[38;5;241;43m2\u001b[39;49m\u001b[43m:\u001b[49m\u001b[38;5;241;43m2\u001b[39;49m\u001b[43m]\u001b[49m\n",
      "\u001b[1;31mTypeError\u001b[0m: 'set' object is not subscriptable"
     ]
    }
   ],
   "source": [
    "s[2:2]"
   ]
  },
  {
   "cell_type": "code",
   "execution_count": 6,
   "id": "32d1299a",
   "metadata": {},
   "outputs": [
    {
     "name": "stdout",
     "output_type": "stream",
     "text": [
      "{}\n",
      "<class 'dict'>\n"
     ]
    }
   ],
   "source": [
    "s={}\n",
    "print(s)\n",
    "print(type(s))"
   ]
  },
  {
   "cell_type": "code",
   "execution_count": 7,
   "id": "93c0d3e6",
   "metadata": {},
   "outputs": [],
   "source": [
    "l=[10,20,30,40,10,20,10]"
   ]
  },
  {
   "cell_type": "code",
   "execution_count": 12,
   "id": "8ca63e2e",
   "metadata": {},
   "outputs": [
    {
     "data": {
      "text/plain": [
       "[40, 10, 20, 30]"
      ]
     },
     "execution_count": 12,
     "metadata": {},
     "output_type": "execute_result"
    }
   ],
   "source": [
    "s=set(l)\n",
    "li=list(s)\n",
    "li"
   ]
  },
  {
   "cell_type": "code",
   "execution_count": 20,
   "id": "a3df040a",
   "metadata": {},
   "outputs": [
    {
     "data": {
      "text/plain": [
       "{0, 2, 4, 6, 8}"
      ]
     },
     "execution_count": 20,
     "metadata": {},
     "output_type": "execute_result"
    }
   ],
   "source": [
    "#range() used to make range of set.\n",
    "sd=set(range(0,10,2))\n",
    "sd"
   ]
  },
  {
   "cell_type": "code",
   "execution_count": 34,
   "id": "426b0982",
   "metadata": {},
   "outputs": [
    {
     "data": {
      "text/plain": [
       "{10, 20, 30, 40}"
      ]
     },
     "execution_count": 34,
     "metadata": {},
     "output_type": "execute_result"
    }
   ],
   "source": [
    "#add() function only take one argument.\n",
    "s={10,20,30}\n",
    "s.add(40)\n",
    "s"
   ]
  },
  {
   "cell_type": "code",
   "execution_count": 43,
   "id": "b74b409b",
   "metadata": {},
   "outputs": [
    {
     "data": {
      "text/plain": [
       "{10, 20, 30, 40, 50}"
      ]
     },
     "execution_count": 43,
     "metadata": {},
     "output_type": "execute_result"
    }
   ],
   "source": [
    "#update set using update() function \n",
    "s={10,20,30}\n",
    "l=40,50\n",
    "li=[23]\n",
    "s.update(l,li)\n",
    "s"
   ]
  },
  {
   "cell_type": "code",
   "execution_count": 45,
   "id": "a5adcc43",
   "metadata": {},
   "outputs": [
    {
     "data": {
      "text/plain": [
       "{10, 20, 23, 30, 40, 50}"
      ]
     },
     "execution_count": 45,
     "metadata": {},
     "output_type": "execute_result"
    }
   ],
   "source": [
    "#update set using update() function \n",
    "s={10,20,30}\n",
    "li=[23]\n",
    "s.update(l,li)\n",
    "s"
   ]
  },
  {
   "cell_type": "code",
   "execution_count": 48,
   "id": "30ca865f",
   "metadata": {},
   "outputs": [
    {
     "data": {
      "text/plain": [
       "{10, 20, 23, 30, 40, 50}"
      ]
     },
     "execution_count": 48,
     "metadata": {},
     "output_type": "execute_result"
    }
   ],
   "source": [
    "#update set using update() function \n",
    "s={10,20,30}\n",
    "l=40,50\n",
    "s.update(l,li)\n",
    "s"
   ]
  },
  {
   "cell_type": "code",
   "execution_count": 50,
   "id": "40ce39a1",
   "metadata": {},
   "outputs": [
    {
     "data": {
      "text/plain": [
       "{0, 1, 2, 3, 4, 10, 20, 23, 30, 40, 50}"
      ]
     },
     "execution_count": 50,
     "metadata": {},
     "output_type": "execute_result"
    }
   ],
   "source": [
    "#update set using update() function \n",
    "s={10,20,30}\n",
    "l=40,50\n",
    "li=[23]\n",
    "s.update(l,range(5),li)\n",
    "s"
   ]
  },
  {
   "cell_type": "code",
   "execution_count": 52,
   "id": "7171b98e",
   "metadata": {},
   "outputs": [
    {
     "data": {
      "text/plain": [
       "{10, 20, 30}"
      ]
     },
     "execution_count": 52,
     "metadata": {},
     "output_type": "execute_result"
    }
   ],
   "source": [
    "#make clone of set using copy() function.\n",
    "s={10,20,30}\n",
    "s1=s.copy()\n",
    "s1"
   ]
  },
  {
   "cell_type": "code",
   "execution_count": 55,
   "id": "55fecef4",
   "metadata": {},
   "outputs": [
    {
     "name": "stdout",
     "output_type": "stream",
     "text": [
      "{40, 10, 20, 30}\n",
      "40\n",
      "{10, 20, 30}\n",
      "10\n",
      "{20, 30}\n"
     ]
    }
   ],
   "source": [
    "s={40,10,30,20}\n",
    "print(s)\n",
    "print(s.pop())\n",
    "print(s)\n",
    "print(s.pop())\n",
    "print(s)"
   ]
  },
  {
   "cell_type": "code",
   "execution_count": 73,
   "id": "9a317a89",
   "metadata": {},
   "outputs": [
    {
     "data": {
      "text/plain": [
       "{20, 30}"
      ]
     },
     "execution_count": 73,
     "metadata": {},
     "output_type": "execute_result"
    }
   ],
   "source": [
    "s={40,10,30,20}\n",
    "l=[40,10]\n",
    "si=s-set(l)\n",
    "si"
   ]
  },
  {
   "cell_type": "code",
   "execution_count": 91,
   "id": "60c1dc5b",
   "metadata": {},
   "outputs": [
    {
     "data": {
      "text/plain": [
       "{20, 30}"
      ]
     },
     "execution_count": 91,
     "metadata": {},
     "output_type": "execute_result"
    }
   ],
   "source": [
    "s={40,10,30,20}\n",
    "for i in range(2):\n",
    "    i=s.pop()\n",
    "s"
   ]
  },
  {
   "cell_type": "code",
   "execution_count": 98,
   "id": "9e22ff14",
   "metadata": {},
   "outputs": [
    {
     "name": "stdout",
     "output_type": "stream",
     "text": [
      "set()\n",
      "{34}\n"
     ]
    }
   ],
   "source": [
    "s={10,20,30}\n",
    "s.clear()\n",
    "print(s)\n",
    "s.add(34)\n",
    "print(s)"
   ]
  },
  {
   "cell_type": "code",
   "execution_count": 100,
   "id": "5cf3d345",
   "metadata": {},
   "outputs": [
    {
     "name": "stdout",
     "output_type": "stream",
     "text": [
      "{40, 10, 50, 20, 60, 30}\n",
      "{40, 10, 50, 20, 60, 30}\n",
      "{70, 40, 10, 80, 50, 20, 60, 30}\n"
     ]
    }
   ],
   "source": [
    "x={10,20,30,40}\n",
    "y={30,40,50,60}\n",
    "print(x.union(y))\n",
    "print(x|y)\n",
    "x={10,20,30,40}\n",
    "y={50,60,70,80}\n",
    "print(x.union(y))"
   ]
  },
  {
   "cell_type": "code",
   "execution_count": 101,
   "id": "b03b2deb",
   "metadata": {},
   "outputs": [
    {
     "name": "stdout",
     "output_type": "stream",
     "text": [
      "{10, 20}\n",
      "{40, 10, 50, 20, 60, 30}\n",
      "{40, 10, 20, 30}\n"
     ]
    }
   ],
   "source": [
    "x={10,20,30,40}\n",
    "y={30,40,50,60}\n",
    "print(x.difference(y))\n",
    "print(x|y)\n",
    "x={10,20,30,40}\n",
    "y={50,60,70,80}\n",
    "print(x.difference(y))"
   ]
  },
  {
   "cell_type": "code",
   "execution_count": 102,
   "id": "c1d036c1",
   "metadata": {},
   "outputs": [
    {
     "name": "stdout",
     "output_type": "stream",
     "text": [
      "{10, 50, 20, 60}\n",
      "{40, 10, 50, 20, 60, 30}\n",
      "{70, 40, 10, 80, 50, 20, 60, 30}\n"
     ]
    }
   ],
   "source": [
    "x={10,20,30,40}\n",
    "y={30,40,50,60}\n",
    "print(x.symmetric_difference(y))\n",
    "print(x|y)\n",
    "x={10,20,30,40}\n",
    "y={50,60,70,80}\n",
    "print(x.symmetric_difference(y))"
   ]
  },
  {
   "cell_type": "code",
   "execution_count": 106,
   "id": "395ea1e1",
   "metadata": {},
   "outputs": [
    {
     "name": "stdout",
     "output_type": "stream",
     "text": [
      "{'i', 's', 'a', 'h'}\n",
      "True\n",
      "False\n"
     ]
    }
   ],
   "source": [
    "s=set('ashish')\n",
    "print(s)\n",
    "print('i' in s )\n",
    "print('l' in s )"
   ]
  },
  {
   "cell_type": "code",
   "execution_count": 108,
   "id": "646697a9",
   "metadata": {},
   "outputs": [
    {
     "data": {
      "text/plain": [
       "{0, 1, 4, 9, 16}"
      ]
     },
     "execution_count": 108,
     "metadata": {},
     "output_type": "execute_result"
    }
   ],
   "source": [
    "s={x*x for x in range(5)}\n",
    "s"
   ]
  },
  {
   "cell_type": "code",
   "execution_count": 109,
   "id": "f79a8a88",
   "metadata": {},
   "outputs": [
    {
     "name": "stdout",
     "output_type": "stream",
     "text": [
      "Enter List of values:23,45\n"
     ]
    },
    {
     "data": {
      "text/plain": [
       "{23, 45}"
      ]
     },
     "execution_count": 109,
     "metadata": {},
     "output_type": "execute_result"
    }
   ],
   "source": [
    "l=eval(input(\"Enter List of values:\"))\n",
    "s=set(l)\n",
    "s"
   ]
  },
  {
   "cell_type": "code",
   "execution_count": 112,
   "id": "955dde71",
   "metadata": {},
   "outputs": [
    {
     "name": "stdout",
     "output_type": "stream",
     "text": [
      "Enter List of values:10,20,30,10,20,40\n"
     ]
    },
    {
     "data": {
      "text/plain": [
       "[10, 20, 30, 40]"
      ]
     },
     "execution_count": 112,
     "metadata": {},
     "output_type": "execute_result"
    }
   ],
   "source": [
    "l=eval(input(\"Enter List of values:\"))\n",
    "l1=[]\n",
    "for x in l:\n",
    "    if x not in l1:\n",
    "        l1.append(x)\n",
    "l1"
   ]
  },
  {
   "cell_type": "code",
   "execution_count": 121,
   "id": "6978eff9",
   "metadata": {},
   "outputs": [
    {
     "name": "stdout",
     "output_type": "stream",
     "text": [
      "l\n",
      "v\n",
      "k\n",
      "s\n",
      "h\n"
     ]
    }
   ],
   "source": [
    "l=('lavkush')\n",
    "l1=['a','e','i','o','u']\n",
    "for x in l:\n",
    "    if x not in l1:\n",
    "        print(x)"
   ]
  },
  {
   "cell_type": "code",
   "execution_count": 148,
   "id": "5e6ac48a",
   "metadata": {},
   "outputs": [
    {
     "name": "stdout",
     "output_type": "stream",
     "text": [
      "Enter List of values:lavkush\n",
      "{'a', 'u'}\n",
      "{'s', 'k', 'l', 'h', 'v'}\n"
     ]
    }
   ],
   "source": [
    "l=set(input(\"Enter List of values:\"))\n",
    "l1=['a','e','i','o','u']\n",
    "j=l-set(l1)\n",
    "k=l.intersection(l1)\n",
    "print(k)\n",
    "print(j)"
   ]
  },
  {
   "cell_type": "code",
   "execution_count": null,
   "id": "119e2902",
   "metadata": {},
   "outputs": [],
   "source": []
  },
  {
   "cell_type": "code",
   "execution_count": null,
   "id": "229d8121",
   "metadata": {},
   "outputs": [],
   "source": []
  }
 ],
 "metadata": {
  "kernelspec": {
   "display_name": "Python 3 (ipykernel)",
   "language": "python",
   "name": "python3"
  },
  "language_info": {
   "codemirror_mode": {
    "name": "ipython",
    "version": 3
   },
   "file_extension": ".py",
   "mimetype": "text/x-python",
   "name": "python",
   "nbconvert_exporter": "python",
   "pygments_lexer": "ipython3",
   "version": "3.9.12"
  }
 },
 "nbformat": 4,
 "nbformat_minor": 5
}
