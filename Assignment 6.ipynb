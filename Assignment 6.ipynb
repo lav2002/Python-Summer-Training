{
 "cells": [
  {
   "cell_type": "code",
   "execution_count": 1,
   "id": "a5ce9bad",
   "metadata": {},
   "outputs": [],
   "source": [
    "#web-developing:html,css,javascript\n",
    "#Here web-developing is key and html,css,javascript is value."
   ]
  },
  {
   "cell_type": "code",
   "execution_count": 4,
   "id": "37d92948",
   "metadata": {},
   "outputs": [],
   "source": [
    "dict={\n",
    "    'Movie':'Baahubali', 'Actor':'Prabhas', 'Director' : 'Rajamouli'\n",
    "    }"
   ]
  },
  {
   "cell_type": "code",
   "execution_count": 5,
   "id": "174d1437",
   "metadata": {},
   "outputs": [
    {
     "data": {
      "text/plain": [
       "dict"
      ]
     },
     "execution_count": 5,
     "metadata": {},
     "output_type": "execute_result"
    }
   ],
   "source": [
    "type(dict)"
   ]
  },
  {
   "cell_type": "code",
   "execution_count": 6,
   "id": "8609fe5e",
   "metadata": {},
   "outputs": [
    {
     "data": {
      "text/plain": [
       "dict_keys(['Movie', 'Actor', 'Director'])"
      ]
     },
     "execution_count": 6,
     "metadata": {},
     "output_type": "execute_result"
    }
   ],
   "source": [
    "dict.keys()"
   ]
  },
  {
   "cell_type": "code",
   "execution_count": 7,
   "id": "6ecad378",
   "metadata": {},
   "outputs": [
    {
     "data": {
      "text/plain": [
       "dict_values(['Baahubali', 'Prabhas', 'Rajamouli'])"
      ]
     },
     "execution_count": 7,
     "metadata": {},
     "output_type": "execute_result"
    }
   ],
   "source": [
    "dict.values()"
   ]
  },
  {
   "cell_type": "code",
   "execution_count": 14,
   "id": "8b403bd2",
   "metadata": {},
   "outputs": [
    {
     "data": {
      "text/plain": [
       "'Prabhas'"
      ]
     },
     "execution_count": 14,
     "metadata": {},
     "output_type": "execute_result"
    }
   ],
   "source": [
    "dict.get('Actor')"
   ]
  },
  {
   "cell_type": "code",
   "execution_count": 15,
   "id": "ef56bdd5",
   "metadata": {},
   "outputs": [
    {
     "data": {
      "text/plain": [
       "'Rajamouli'"
      ]
     },
     "execution_count": 15,
     "metadata": {},
     "output_type": "execute_result"
    }
   ],
   "source": [
    "dict.get('Director')"
   ]
  },
  {
   "cell_type": "code",
   "execution_count": 20,
   "id": "f7c3fa9e",
   "metadata": {},
   "outputs": [
    {
     "data": {
      "text/plain": [
       "{'Movie': 'Baahubali', 'Actor': 'Mahesh Babu', 'Director': 'Rajamouli'}"
      ]
     },
     "execution_count": 20,
     "metadata": {},
     "output_type": "execute_result"
    }
   ],
   "source": [
    "a={'Actor':'Mahesh Babu'}\n",
    "dict.update(a)\n",
    "dict"
   ]
  },
  {
   "cell_type": "code",
   "execution_count": 21,
   "id": "7ad01e75",
   "metadata": {},
   "outputs": [
    {
     "data": {
      "text/plain": [
       "'Mahesh Babu'"
      ]
     },
     "execution_count": 21,
     "metadata": {},
     "output_type": "execute_result"
    }
   ],
   "source": [
    "dict.get('Actor')"
   ]
  },
  {
   "cell_type": "code",
   "execution_count": null,
   "id": "7afc9a1d",
   "metadata": {},
   "outputs": [],
   "source": []
  }
 ],
 "metadata": {
  "kernelspec": {
   "display_name": "Python 3 (ipykernel)",
   "language": "python",
   "name": "python3"
  },
  "language_info": {
   "codemirror_mode": {
    "name": "ipython",
    "version": 3
   },
   "file_extension": ".py",
   "mimetype": "text/x-python",
   "name": "python",
   "nbconvert_exporter": "python",
   "pygments_lexer": "ipython3",
   "version": "3.9.12"
  }
 },
 "nbformat": 4,
 "nbformat_minor": 5
}
